{
 "cells": [
  {
   "cell_type": "markdown",
   "metadata": {},
   "source": [
    "# Starbucks Promotion Segmentation - Modeling\n",
    "\n",
    "## Contents\n",
    "\n",
    "### [Section I: Dependencies and Data](#load)\n",
    "### [Section II: Data Preprocessing](#prep)\n",
    "  ##### [1. Extract offers](#prep1)\n",
    "  ##### [2. Encode categorical variables](#prep2)\n",
    "  ##### [3. Create target label](#prep3)\n",
    "  ##### [4. Balance target classes](#prep4)\n",
    "  ##### [5. Split data into 3 sets](#prep5)\n",
    "  ##### [6. Multicollinearity](#prep6)\n",
    "  ##### [7. Normalize values](#prep7)\n",
    "  ##### [8. PCANormalize values](#prep8)\n",
    "### [Section III: Modeling](#clfr)\n",
    "  ##### [1. Feature correlation with target](#clfr1)\n",
    "  ##### [2. Evaluation functions](#clfr2)\n",
    "  ##### [3. Logistic regression](#clfr3)\n",
    "  ##### [4. ](#clfr4)\n",
    "  ##### [5. ](#clfr5)\n",
    "  ##### [6. ](#clfr6)\n",
    "### [Section IV: Conclusion](#conc)"
   ]
  },
  {
   "cell_type": "markdown",
   "metadata": {},
   "source": [
    "## Introduction\n",
    "\n",
    "In this notebook, we will build a classifier to predict whether a customer will respond to an offer. This predictor will help us decide whether we should send users a particuular offer. The input of this classifier includes an offer, a user, and additional features relating to the offer and user. It will produce a binary output predicting whether or not the user will complete the offer. I will be trying several machine learning classification models and evaluating their predictions with accuracy, f1-score, and the confusion matrix."
   ]
  },
  {
   "cell_type": "markdown",
   "metadata": {},
   "source": [
    "## <a id=\"load\">Section I: Dependencies and data</a>"
   ]
  },
  {
   "cell_type": "code",
   "execution_count": 1,
   "metadata": {},
   "outputs": [],
   "source": [
    "%matplotlib inline\n",
    "import matplotlib.pyplot as plt\n",
    "import seaborn as sns\n",
    "import plotly.express as px\n",
    "import plotly.graph_objs as go\n",
    "import plotly.subplots as subplots\n",
    "sns.set()\n",
    "\n",
    "import gc\n",
    "import joblib\n",
    "import numpy as np\n",
    "import pandas as pd\n",
    "\n",
    "from sklearn.model_selection import train_test_split, cross_validate, GridSearchCV\n",
    "from sklearn.preprocessing import StandardScaler\n",
    "from sklearn.decomposition import PCA\n",
    "from sklearn.linear_model import LogisticRegression\n",
    "from sklearn.neighbors import KNeighborsClassifier\n",
    "from sklearn.svm import SVC\n",
    "from sklearn.tree import DecisionTreeClassifier\n",
    "from sklearn.ensemble import RandomForestClassifier\n",
    "from sklearn.metrics import accuracy_score, roc_auc_score, plot_roc_curve, \\\n",
    "                            plot_confusion_matrix, classification_report as report"
   ]
  },
  {
   "cell_type": "code",
   "execution_count": 2,
   "metadata": {},
   "outputs": [
    {
     "name": "stdout",
     "output_type": "stream",
     "text": [
      "<class 'pandas.core.frame.DataFrame'>\n",
      "Int64Index: 148431 entries, 0 to 148430\n",
      "Data columns (total 31 columns):\n",
      " #   Column            Non-Null Count   Dtype         \n",
      "---  ------            --------------   -----         \n",
      " 0   index             148431 non-null  int64         \n",
      " 1   event             148431 non-null  object        \n",
      " 2   time              148431 non-null  int64         \n",
      " 3   offer_id          148431 non-null  int64         \n",
      " 4   user_id           148431 non-null  int64         \n",
      " 5   amount            148431 non-null  float64       \n",
      " 6   reward            148431 non-null  int64         \n",
      " 7   difficulty        148431 non-null  int64         \n",
      " 8   duration          148431 non-null  int64         \n",
      " 9   offer_type        148431 non-null  object        \n",
      " 10  mobile            148431 non-null  int64         \n",
      " 11  social            148431 non-null  int64         \n",
      " 12  web               148431 non-null  int64         \n",
      " 13  expire_time       148431 non-null  int64         \n",
      " 14  oid_uid           148431 non-null  object        \n",
      " 15  viewed            148431 non-null  int64         \n",
      " 16  completed         148431 non-null  int64         \n",
      " 17  group             148431 non-null  int64         \n",
      " 18  gender            148431 non-null  object        \n",
      " 19  age               148431 non-null  int64         \n",
      " 20  income            148431 non-null  int64         \n",
      " 21  signup_date       148431 non-null  datetime64[ns]\n",
      " 22  signup_year       148431 non-null  int64         \n",
      " 23  age_group         148431 non-null  int64         \n",
      " 24  income_group      148431 non-null  int64         \n",
      " 25  frequency         148431 non-null  int64         \n",
      " 26  monetary          148431 non-null  float64       \n",
      " 27  tenure            148431 non-null  int64         \n",
      " 28  customer_tier     148431 non-null  object        \n",
      " 29  cluster           148431 non-null  int32         \n",
      " 30  customer_cluster  148431 non-null  object        \n",
      "dtypes: datetime64[ns](1), float64(2), int32(1), int64(21), object(6)\n",
      "memory usage: 35.7+ MB\n"
     ]
    }
   ],
   "source": [
    "# Data\n",
    "offers = pd.read_pickle('../data/out2/offers.pkl')\n",
    "offers.info()"
   ]
  },
  {
   "cell_type": "markdown",
   "metadata": {},
   "source": [
    "## <a id=\"prep\">Section II: Data Preprocessing</a>\n",
    "\n",
    "### <a id=\"prep1\">1. Extract offers</a>\n",
    "\n",
    "Since we are trying to predict whether a user will respond to an offer if we send it to them, the only data of interest are \"offer received\" events."
   ]
  },
  {
   "cell_type": "code",
   "execution_count": 3,
   "metadata": {},
   "outputs": [
    {
     "data": {
      "text/html": [
       "<div>\n",
       "<style scoped>\n",
       "    .dataframe tbody tr th:only-of-type {\n",
       "        vertical-align: middle;\n",
       "    }\n",
       "\n",
       "    .dataframe tbody tr th {\n",
       "        vertical-align: top;\n",
       "    }\n",
       "\n",
       "    .dataframe thead th {\n",
       "        text-align: right;\n",
       "    }\n",
       "</style>\n",
       "<table border=\"1\" class=\"dataframe\">\n",
       "  <thead>\n",
       "    <tr style=\"text-align: right;\">\n",
       "      <th></th>\n",
       "      <th>index</th>\n",
       "      <th>event</th>\n",
       "      <th>time</th>\n",
       "      <th>offer_id</th>\n",
       "      <th>user_id</th>\n",
       "      <th>amount</th>\n",
       "      <th>reward</th>\n",
       "      <th>difficulty</th>\n",
       "      <th>duration</th>\n",
       "      <th>offer_type</th>\n",
       "      <th>...</th>\n",
       "      <th>signup_date</th>\n",
       "      <th>signup_year</th>\n",
       "      <th>age_group</th>\n",
       "      <th>income_group</th>\n",
       "      <th>frequency</th>\n",
       "      <th>monetary</th>\n",
       "      <th>tenure</th>\n",
       "      <th>customer_tier</th>\n",
       "      <th>cluster</th>\n",
       "      <th>customer_cluster</th>\n",
       "    </tr>\n",
       "  </thead>\n",
       "  <tbody>\n",
       "    <tr>\n",
       "      <th>0</th>\n",
       "      <td>0</td>\n",
       "      <td>offer received</td>\n",
       "      <td>0</td>\n",
       "      <td>7</td>\n",
       "      <td>2</td>\n",
       "      <td>0.0</td>\n",
       "      <td>5</td>\n",
       "      <td>5</td>\n",
       "      <td>7</td>\n",
       "      <td>bogo</td>\n",
       "      <td>...</td>\n",
       "      <td>2017-05-09</td>\n",
       "      <td>2017</td>\n",
       "      <td>5</td>\n",
       "      <td>5</td>\n",
       "      <td>7</td>\n",
       "      <td>159.27</td>\n",
       "      <td>15</td>\n",
       "      <td>Silver</td>\n",
       "      <td>0</td>\n",
       "      <td>Female low spenders</td>\n",
       "    </tr>\n",
       "    <tr>\n",
       "      <th>1</th>\n",
       "      <td>2</td>\n",
       "      <td>offer received</td>\n",
       "      <td>0</td>\n",
       "      <td>5</td>\n",
       "      <td>3</td>\n",
       "      <td>0.0</td>\n",
       "      <td>2</td>\n",
       "      <td>10</td>\n",
       "      <td>7</td>\n",
       "      <td>discount</td>\n",
       "      <td>...</td>\n",
       "      <td>2018-04-26</td>\n",
       "      <td>2018</td>\n",
       "      <td>4</td>\n",
       "      <td>3</td>\n",
       "      <td>3</td>\n",
       "      <td>57.73</td>\n",
       "      <td>4</td>\n",
       "      <td>Bronze</td>\n",
       "      <td>3</td>\n",
       "      <td>Male low spenders</td>\n",
       "    </tr>\n",
       "  </tbody>\n",
       "</table>\n",
       "<p>2 rows × 31 columns</p>\n",
       "</div>"
      ],
      "text/plain": [
       "   index           event  time  offer_id  user_id  amount  reward  difficulty  \\\n",
       "0      0  offer received     0         7        2     0.0       5           5   \n",
       "1      2  offer received     0         5        3     0.0       2          10   \n",
       "\n",
       "   duration offer_type  ...  signup_date  signup_year  age_group  \\\n",
       "0         7       bogo  ...   2017-05-09         2017          5   \n",
       "1         7   discount  ...   2018-04-26         2018          4   \n",
       "\n",
       "   income_group frequency  monetary  tenure  customer_tier cluster  \\\n",
       "0             5         7    159.27      15         Silver       0   \n",
       "1             3         3     57.73       4         Bronze       3   \n",
       "\n",
       "      customer_cluster  \n",
       "0  Female low spenders  \n",
       "1    Male low spenders  \n",
       "\n",
       "[2 rows x 31 columns]"
      ]
     },
     "execution_count": 3,
     "metadata": {},
     "output_type": "execute_result"
    }
   ],
   "source": [
    "df = offers.query('event == \"offer received\"').copy()\n",
    "df.head(2)"
   ]
  },
  {
   "cell_type": "code",
   "execution_count": 4,
   "metadata": {},
   "outputs": [
    {
     "name": "stdout",
     "output_type": "stream",
     "text": [
      "<class 'pandas.core.frame.DataFrame'>\n",
      "Int64Index: 66501 entries, 0 to 132146\n",
      "Data columns (total 20 columns):\n",
      " #   Column        Non-Null Count  Dtype  \n",
      "---  ------        --------------  -----  \n",
      " 0   offer_id      66501 non-null  int64  \n",
      " 1   user_id       66501 non-null  int64  \n",
      " 2   reward        66501 non-null  int64  \n",
      " 3   difficulty    66501 non-null  int64  \n",
      " 4   duration      66501 non-null  int64  \n",
      " 5   offer_type    66501 non-null  object \n",
      " 6   mobile        66501 non-null  int64  \n",
      " 7   social        66501 non-null  int64  \n",
      " 8   web           66501 non-null  int64  \n",
      " 9   viewed        66501 non-null  int64  \n",
      " 10  completed     66501 non-null  int64  \n",
      " 11  group         66501 non-null  int64  \n",
      " 12  gender        66501 non-null  object \n",
      " 13  age           66501 non-null  int64  \n",
      " 14  income        66501 non-null  int64  \n",
      " 15  age_group     66501 non-null  int64  \n",
      " 16  income_group  66501 non-null  int64  \n",
      " 17  frequency     66501 non-null  int64  \n",
      " 18  monetary      66501 non-null  float64\n",
      " 19  tenure        66501 non-null  int64  \n",
      "dtypes: float64(1), int64(17), object(2)\n",
      "memory usage: 10.7+ MB\n"
     ]
    }
   ],
   "source": [
    "# Drop columns that won't be used\n",
    "to_drop = ['index', 'event', 'time', 'amount', 'expire_time', 'oid_uid',\n",
    "           'signup_date', 'signup_year', 'customer_tier', 'customer_cluster', 'cluster']\n",
    "df.drop(to_drop, axis=1, inplace=True)\n",
    "df.info()"
   ]
  },
  {
   "cell_type": "markdown",
   "metadata": {},
   "source": [
    "### <a id=\"prep2\">2. Encode categorical variables</a>"
   ]
  },
  {
   "cell_type": "code",
   "execution_count": 5,
   "metadata": {},
   "outputs": [
    {
     "name": "stdout",
     "output_type": "stream",
     "text": [
      "13300 26664 26537\n"
     ]
    },
    {
     "data": {
      "text/plain": [
       "discount         26664\n",
       "bogo             26537\n",
       "informational    13300\n",
       "Name: offer_type, dtype: int64"
      ]
     },
     "execution_count": 5,
     "metadata": {},
     "output_type": "execute_result"
    }
   ],
   "source": [
    "# Encode offer type\n",
    "df['info_offer'] = df.offer_type.apply(lambda t: int(t == 'informational'))\n",
    "df['disc_offer'] = df.offer_type.apply(lambda t: int(t == 'discount'))\n",
    "df['bogo_offer'] = df.offer_type.apply(lambda t: int(t == 'bogo'))\n",
    "print(df.info_offer.sum(), df.disc_offer.sum(), df.bogo_offer.sum())\n",
    "df.offer_type.value_counts()"
   ]
  },
  {
   "cell_type": "code",
   "execution_count": 6,
   "metadata": {},
   "outputs": [
    {
     "name": "stdout",
     "output_type": "stream",
     "text": [
      "38129\n"
     ]
    },
    {
     "data": {
      "text/plain": [
       "M    38129\n",
       "F    27456\n",
       "O      916\n",
       "Name: gender, dtype: int64"
      ]
     },
     "execution_count": 6,
     "metadata": {},
     "output_type": "execute_result"
    }
   ],
   "source": [
    "# Encode gender\n",
    "df['male'] = df.gender.apply(lambda g: int(g == 'M'))\n",
    "print(df.male.sum())\n",
    "df.gender.value_counts()"
   ]
  },
  {
   "cell_type": "code",
   "execution_count": 7,
   "metadata": {},
   "outputs": [
    {
     "data": {
      "text/plain": [
       "(66501, 22)"
      ]
     },
     "execution_count": 7,
     "metadata": {},
     "output_type": "execute_result"
    }
   ],
   "source": [
    "# Drop categorical columns\n",
    "df.drop(['offer_type', 'gender'], axis=1, inplace=True)\n",
    "df.shape"
   ]
  },
  {
   "cell_type": "markdown",
   "metadata": {},
   "source": [
    "##### I decided to one-hot encode `offer_type` because it has low cardinality. For `gender` I created only 1 binary feature to indicate whether the user was male (the majority class) because the \"other\" gender is a rare category."
   ]
  },
  {
   "cell_type": "markdown",
   "metadata": {},
   "source": [
    "### <a id=\"prep3\">3. Create target label</a>\n",
    "\n",
    "The target label is whether or not the user viewed and completed the offered. If a user completed an offer without viewing it first, that user was not aware of the offer and spent the money anyway, which means there was no point in sending an offer to that customer."
   ]
  },
  {
   "cell_type": "code",
   "execution_count": 8,
   "metadata": {},
   "outputs": [
    {
     "data": {
      "text/plain": [
       "0    38659\n",
       "1    27842\n",
       "Name: target, dtype: int64"
      ]
     },
     "execution_count": 8,
     "metadata": {},
     "output_type": "execute_result"
    }
   ],
   "source": [
    "df['target'] = df.apply(lambda o: int(o.viewed == o.completed == 1), axis=1)\n",
    "df.target.value_counts()"
   ]
  },
  {
   "cell_type": "code",
   "execution_count": 9,
   "metadata": {},
   "outputs": [
    {
     "data": {
      "text/plain": [
       "(66501, 16)"
      ]
     },
     "execution_count": 9,
     "metadata": {},
     "output_type": "execute_result"
    }
   ],
   "source": [
    "to_drop = ['offer_id', 'user_id', 'age_group', 'income_group', 'viewed', 'completed', 'group']\n",
    "df.drop(to_drop, axis=1, inplace=True)\n",
    "df.shape"
   ]
  },
  {
   "cell_type": "markdown",
   "metadata": {},
   "source": [
    "### <a id=\"prep4\">4. Balance target classes</a>"
   ]
  },
  {
   "cell_type": "code",
   "execution_count": 10,
   "metadata": {},
   "outputs": [
    {
     "name": "stdout",
     "output_type": "stream",
     "text": [
      "(55684, 16)\n"
     ]
    },
    {
     "data": {
      "text/html": [
       "<div>\n",
       "<style scoped>\n",
       "    .dataframe tbody tr th:only-of-type {\n",
       "        vertical-align: middle;\n",
       "    }\n",
       "\n",
       "    .dataframe tbody tr th {\n",
       "        vertical-align: top;\n",
       "    }\n",
       "\n",
       "    .dataframe thead th {\n",
       "        text-align: right;\n",
       "    }\n",
       "</style>\n",
       "<table border=\"1\" class=\"dataframe\">\n",
       "  <thead>\n",
       "    <tr style=\"text-align: right;\">\n",
       "      <th></th>\n",
       "      <th>reward</th>\n",
       "      <th>difficulty</th>\n",
       "      <th>duration</th>\n",
       "      <th>mobile</th>\n",
       "      <th>social</th>\n",
       "      <th>web</th>\n",
       "      <th>age</th>\n",
       "      <th>income</th>\n",
       "      <th>frequency</th>\n",
       "      <th>monetary</th>\n",
       "      <th>tenure</th>\n",
       "      <th>info_offer</th>\n",
       "      <th>disc_offer</th>\n",
       "      <th>bogo_offer</th>\n",
       "      <th>male</th>\n",
       "      <th>target</th>\n",
       "    </tr>\n",
       "  </thead>\n",
       "  <tbody>\n",
       "    <tr>\n",
       "      <th>0</th>\n",
       "      <td>5</td>\n",
       "      <td>5</td>\n",
       "      <td>7</td>\n",
       "      <td>1</td>\n",
       "      <td>0</td>\n",
       "      <td>1</td>\n",
       "      <td>75</td>\n",
       "      <td>100000</td>\n",
       "      <td>7</td>\n",
       "      <td>159.27</td>\n",
       "      <td>15</td>\n",
       "      <td>0</td>\n",
       "      <td>0</td>\n",
       "      <td>1</td>\n",
       "      <td>0</td>\n",
       "      <td>1</td>\n",
       "    </tr>\n",
       "    <tr>\n",
       "      <th>1</th>\n",
       "      <td>2</td>\n",
       "      <td>10</td>\n",
       "      <td>7</td>\n",
       "      <td>1</td>\n",
       "      <td>0</td>\n",
       "      <td>1</td>\n",
       "      <td>68</td>\n",
       "      <td>70000</td>\n",
       "      <td>3</td>\n",
       "      <td>57.73</td>\n",
       "      <td>4</td>\n",
       "      <td>0</td>\n",
       "      <td>1</td>\n",
       "      <td>0</td>\n",
       "      <td>1</td>\n",
       "      <td>0</td>\n",
       "    </tr>\n",
       "  </tbody>\n",
       "</table>\n",
       "</div>"
      ],
      "text/plain": [
       "   reward  difficulty  duration  mobile  social  web  age  income  frequency  \\\n",
       "0       5           5         7       1       0    1   75  100000          7   \n",
       "1       2          10         7       1       0    1   68   70000          3   \n",
       "\n",
       "   monetary  tenure  info_offer  disc_offer  bogo_offer  male  target  \n",
       "0    159.27      15           0           0           1     0       1  \n",
       "1     57.73       4           0           1           0     1       0  "
      ]
     },
     "execution_count": 10,
     "metadata": {},
     "output_type": "execute_result"
    }
   ],
   "source": [
    "# Downsample class 0\n",
    "df = pd.concat([df.query('target == 1'), df.query('target == 0').sample(27842, random_state=0)]).sort_index()\n",
    "print(df.shape)\n",
    "df.head(2)"
   ]
  },
  {
   "cell_type": "code",
   "execution_count": 11,
   "metadata": {},
   "outputs": [],
   "source": [
    "# # Upsample class 1\n",
    "# df = pd.concat([df, df.query('target == 1').sample(38659 - 27842, random_state=0)]).reset_index(drop=True)\n",
    "# print(df.shape)\n",
    "# df.head(2)"
   ]
  },
  {
   "cell_type": "code",
   "execution_count": 12,
   "metadata": {},
   "outputs": [
    {
     "data": {
      "text/plain": [
       "1    27842\n",
       "0    27842\n",
       "Name: target, dtype: int64"
      ]
     },
     "execution_count": 12,
     "metadata": {},
     "output_type": "execute_result"
    }
   ],
   "source": [
    "df.target.value_counts()"
   ]
  },
  {
   "cell_type": "markdown",
   "metadata": {},
   "source": [
    "### <a id=\"prep5\">5. Split data into 3 sets</a>"
   ]
  },
  {
   "cell_type": "code",
   "execution_count": 13,
   "metadata": {},
   "outputs": [
    {
     "data": {
      "text/plain": [
       "((55684, 15), (55684,))"
      ]
     },
     "execution_count": 13,
     "metadata": {},
     "output_type": "execute_result"
    }
   ],
   "source": [
    "X = df.drop('target', axis=1).copy() # features\n",
    "y = df['target'].copy() # target label\n",
    "X.shape, y.shape"
   ]
  },
  {
   "cell_type": "code",
   "execution_count": 14,
   "metadata": {},
   "outputs": [
    {
     "data": {
      "text/plain": [
       "((33410, 15), (22274, 15), (33410,), (22274,))"
      ]
     },
     "execution_count": 14,
     "metadata": {},
     "output_type": "execute_result"
    }
   ],
   "source": [
    "# First split - train set (60%)\n",
    "X_train, X_vt, y_train, y_vt = train_test_split(X, y, train_size=0.6, random_state=0)\n",
    "X_train.shape, X_vt.shape, y_train.shape, y_vt.shape"
   ]
  },
  {
   "cell_type": "code",
   "execution_count": 15,
   "metadata": {},
   "outputs": [
    {
     "data": {
      "text/plain": [
       "((11137, 15), (11137, 15), (11137,), (11137,))"
      ]
     },
     "execution_count": 15,
     "metadata": {},
     "output_type": "execute_result"
    }
   ],
   "source": [
    "# Second split - validation and test sets (20% each)\n",
    "X_val, X_test, y_val, y_test = train_test_split(X_vt, y_vt, train_size=0.5, random_state=0)\n",
    "X_val.shape, X_test.shape, y_val.shape, y_test.shape"
   ]
  },
  {
   "cell_type": "code",
   "execution_count": 16,
   "metadata": {},
   "outputs": [
    {
     "name": "stdout",
     "output_type": "stream",
     "text": [
      "Proportion of offers completed in:\n",
      "Train set: 0.5022747680335229\n",
      "Validation set: 0.48846188381072103\n",
      "Test set: 0.5047140163419234\n"
     ]
    }
   ],
   "source": [
    "# Class ratio for train and test sets\n",
    "print('Proportion of offers completed in:')\n",
    "print('Train set:', y_train.mean())\n",
    "print('Validation set:', y_val.mean())\n",
    "print('Test set:', y_test.mean())"
   ]
  },
  {
   "cell_type": "markdown",
   "metadata": {},
   "source": [
    "### <a id=\"prep6\">6. Multicollinearity</a>"
   ]
  },
  {
   "cell_type": "code",
   "execution_count": 17,
   "metadata": {},
   "outputs": [
    {
     "data": {
      "image/png": "[encoded data removed]",
      "text/plain": [
       "<Figure size 720x576 with 2 Axes>"
      ]
     },
     "metadata": {
      "needs_background": "light"
     },
     "output_type": "display_data"
    }
   ],
   "source": [
    "plt.figure(figsize=(10, 8))\n",
    "sns.heatmap(X_train.corr(), annot=True, vmin=-1, vmax=1, fmt='.2f', cmap='coolwarm')\n",
    "plt.title('Feature Multicollinearity', fontsize='x-large')\n",
    "plt.xticks(rotation=45, ha='right');"
   ]
  },
  {
   "cell_type": "code",
   "execution_count": 18,
   "metadata": {},
   "outputs": [
    {
     "data": {
      "text/plain": [
       "array(['age', 'difficulty', 'frequency', 'income', 'male', 'monetary',\n",
       "       'reward', 'social', 'tenure', 'web'], dtype=object)"
      ]
     },
     "execution_count": 18,
     "metadata": {},
     "output_type": "execute_result"
    }
   ],
   "source": [
    "high_corr = ['duration', 'mobile', 'info_offer', 'disc_offer', 'bogo_offer']\n",
    "low_corr_feats = np.setdiff1d(X_train.columns, high_corr)\n",
    "low_corr_feats"
   ]
  },
  {
   "cell_type": "markdown",
   "metadata": {},
   "source": [
    "##### High multicollinearity was found with the 3 `offer type` binary features, 3 `channel` binary features, and `duration` feature. These features won't be dropped as they may be good predictors for tree-based classifiers, but they will be omitted from classification algorithms where there is an assumption of no multicollinearity."
   ]
  },
  {
   "cell_type": "markdown",
   "metadata": {},
   "source": [
    "### <a id=\"prep7\">7. Normalize values</a>"
   ]
  },
  {
   "cell_type": "code",
   "execution_count": 19,
   "metadata": {},
   "outputs": [
    {
     "data": {
      "text/html": [
       "<div>\n",
       "<style scoped>\n",
       "    .dataframe tbody tr th:only-of-type {\n",
       "        vertical-align: middle;\n",
       "    }\n",
       "\n",
       "    .dataframe tbody tr th {\n",
       "        vertical-align: top;\n",
       "    }\n",
       "\n",
       "    .dataframe thead th {\n",
       "        text-align: right;\n",
       "    }\n",
       "</style>\n",
       "<table border=\"1\" class=\"dataframe\">\n",
       "  <thead>\n",
       "    <tr style=\"text-align: right;\">\n",
       "      <th></th>\n",
       "      <th>reward</th>\n",
       "      <th>difficulty</th>\n",
       "      <th>duration</th>\n",
       "      <th>mobile</th>\n",
       "      <th>social</th>\n",
       "      <th>web</th>\n",
       "      <th>age</th>\n",
       "      <th>income</th>\n",
       "      <th>frequency</th>\n",
       "      <th>monetary</th>\n",
       "      <th>tenure</th>\n",
       "      <th>info_offer</th>\n",
       "      <th>disc_offer</th>\n",
       "      <th>bogo_offer</th>\n",
       "      <th>male</th>\n",
       "    </tr>\n",
       "  </thead>\n",
       "  <tbody>\n",
       "    <tr>\n",
       "      <th>0</th>\n",
       "      <td>-0.342294</td>\n",
       "      <td>-0.114874</td>\n",
       "      <td>0.225353</td>\n",
       "      <td>0.32117</td>\n",
       "      <td>0.787324</td>\n",
       "      <td>0.500935</td>\n",
       "      <td>0.315473</td>\n",
       "      <td>-1.285855</td>\n",
       "      <td>0.557083</td>\n",
       "      <td>-0.309021</td>\n",
       "      <td>0.122169</td>\n",
       "      <td>-0.500327</td>\n",
       "      <td>1.211932</td>\n",
       "      <td>-0.807565</td>\n",
       "      <td>0.87684</td>\n",
       "    </tr>\n",
       "    <tr>\n",
       "      <th>1</th>\n",
       "      <td>-0.637000</td>\n",
       "      <td>0.436317</td>\n",
       "      <td>1.582750</td>\n",
       "      <td>0.32117</td>\n",
       "      <td>0.787324</td>\n",
       "      <td>0.500935</td>\n",
       "      <td>0.488569</td>\n",
       "      <td>-0.357779</td>\n",
       "      <td>1.773999</td>\n",
       "      <td>1.147328</td>\n",
       "      <td>0.982399</td>\n",
       "      <td>-0.500327</td>\n",
       "      <td>1.211932</td>\n",
       "      <td>-0.807565</td>\n",
       "      <td>0.87684</td>\n",
       "    </tr>\n",
       "  </tbody>\n",
       "</table>\n",
       "</div>"
      ],
      "text/plain": [
       "     reward  difficulty  duration   mobile    social       web       age  \\\n",
       "0 -0.342294   -0.114874  0.225353  0.32117  0.787324  0.500935  0.315473   \n",
       "1 -0.637000    0.436317  1.582750  0.32117  0.787324  0.500935  0.488569   \n",
       "\n",
       "     income  frequency  monetary    tenure  info_offer  disc_offer  \\\n",
       "0 -1.285855   0.557083 -0.309021  0.122169   -0.500327    1.211932   \n",
       "1 -0.357779   1.773999  1.147328  0.982399   -0.500327    1.211932   \n",
       "\n",
       "   bogo_offer     male  \n",
       "0   -0.807565  0.87684  \n",
       "1   -0.807565  0.87684  "
      ]
     },
     "execution_count": 19,
     "metadata": {},
     "output_type": "execute_result"
    }
   ],
   "source": [
    "# Normalize train set\n",
    "scaler = StandardScaler()\n",
    "X_train_scaled = scaler.fit_transform(X_train)\n",
    "X_train_scaled = pd.DataFrame(X_train_scaled, columns=X_train.columns)\n",
    "X_train_scaled.head(2)"
   ]
  },
  {
   "cell_type": "code",
   "execution_count": 20,
   "metadata": {},
   "outputs": [
    {
     "data": {
      "text/html": [
       "<div>\n",
       "<style scoped>\n",
       "    .dataframe tbody tr th:only-of-type {\n",
       "        vertical-align: middle;\n",
       "    }\n",
       "\n",
       "    .dataframe tbody tr th {\n",
       "        vertical-align: top;\n",
       "    }\n",
       "\n",
       "    .dataframe thead th {\n",
       "        text-align: right;\n",
       "    }\n",
       "</style>\n",
       "<table border=\"1\" class=\"dataframe\">\n",
       "  <thead>\n",
       "    <tr style=\"text-align: right;\">\n",
       "      <th></th>\n",
       "      <th>reward</th>\n",
       "      <th>difficulty</th>\n",
       "      <th>duration</th>\n",
       "      <th>mobile</th>\n",
       "      <th>social</th>\n",
       "      <th>web</th>\n",
       "      <th>age</th>\n",
       "      <th>income</th>\n",
       "      <th>frequency</th>\n",
       "      <th>monetary</th>\n",
       "      <th>tenure</th>\n",
       "      <th>info_offer</th>\n",
       "      <th>disc_offer</th>\n",
       "      <th>bogo_offer</th>\n",
       "      <th>male</th>\n",
       "    </tr>\n",
       "  </thead>\n",
       "  <tbody>\n",
       "    <tr>\n",
       "      <th>0</th>\n",
       "      <td>0.247117</td>\n",
       "      <td>-0.482334</td>\n",
       "      <td>-0.679579</td>\n",
       "      <td>0.321170</td>\n",
       "      <td>0.787324</td>\n",
       "      <td>0.500935</td>\n",
       "      <td>1.527147</td>\n",
       "      <td>2.287238</td>\n",
       "      <td>-0.051376</td>\n",
       "      <td>0.551361</td>\n",
       "      <td>-0.523004</td>\n",
       "      <td>-0.500327</td>\n",
       "      <td>-0.825129</td>\n",
       "      <td>1.238291</td>\n",
       "      <td>0.87684</td>\n",
       "    </tr>\n",
       "    <tr>\n",
       "      <th>1</th>\n",
       "      <td>0.247117</td>\n",
       "      <td>2.273619</td>\n",
       "      <td>1.582750</td>\n",
       "      <td>-3.113619</td>\n",
       "      <td>-1.270125</td>\n",
       "      <td>0.500935</td>\n",
       "      <td>-0.492310</td>\n",
       "      <td>-0.357779</td>\n",
       "      <td>-1.673931</td>\n",
       "      <td>-0.932033</td>\n",
       "      <td>-0.451318</td>\n",
       "      <td>-0.500327</td>\n",
       "      <td>1.211932</td>\n",
       "      <td>-0.807565</td>\n",
       "      <td>0.87684</td>\n",
       "    </tr>\n",
       "  </tbody>\n",
       "</table>\n",
       "</div>"
      ],
      "text/plain": [
       "     reward  difficulty  duration    mobile    social       web       age  \\\n",
       "0  0.247117   -0.482334 -0.679579  0.321170  0.787324  0.500935  1.527147   \n",
       "1  0.247117    2.273619  1.582750 -3.113619 -1.270125  0.500935 -0.492310   \n",
       "\n",
       "     income  frequency  monetary    tenure  info_offer  disc_offer  \\\n",
       "0  2.287238  -0.051376  0.551361 -0.523004   -0.500327   -0.825129   \n",
       "1 -0.357779  -1.673931 -0.932033 -0.451318   -0.500327    1.211932   \n",
       "\n",
       "   bogo_offer     male  \n",
       "0    1.238291  0.87684  \n",
       "1   -0.807565  0.87684  "
      ]
     },
     "execution_count": 20,
     "metadata": {},
     "output_type": "execute_result"
    }
   ],
   "source": [
    "# Normalize validation set\n",
    "X_val_scaled = scaler.transform(X_val)\n",
    "X_val_scaled = pd.DataFrame(X_val_scaled, columns=X_val.columns)\n",
    "X_val_scaled.head(2)"
   ]
  },
  {
   "cell_type": "code",
   "execution_count": 21,
   "metadata": {},
   "outputs": [
    {
     "data": {
      "text/html": [
       "<div>\n",
       "<style scoped>\n",
       "    .dataframe tbody tr th:only-of-type {\n",
       "        vertical-align: middle;\n",
       "    }\n",
       "\n",
       "    .dataframe tbody tr th {\n",
       "        vertical-align: top;\n",
       "    }\n",
       "\n",
       "    .dataframe thead th {\n",
       "        text-align: right;\n",
       "    }\n",
       "</style>\n",
       "<table border=\"1\" class=\"dataframe\">\n",
       "  <thead>\n",
       "    <tr style=\"text-align: right;\">\n",
       "      <th></th>\n",
       "      <th>reward</th>\n",
       "      <th>difficulty</th>\n",
       "      <th>duration</th>\n",
       "      <th>mobile</th>\n",
       "      <th>social</th>\n",
       "      <th>web</th>\n",
       "      <th>age</th>\n",
       "      <th>income</th>\n",
       "      <th>frequency</th>\n",
       "      <th>monetary</th>\n",
       "      <th>tenure</th>\n",
       "      <th>info_offer</th>\n",
       "      <th>disc_offer</th>\n",
       "      <th>bogo_offer</th>\n",
       "      <th>male</th>\n",
       "    </tr>\n",
       "  </thead>\n",
       "  <tbody>\n",
       "    <tr>\n",
       "      <th>0</th>\n",
       "      <td>-0.637000</td>\n",
       "      <td>0.436317</td>\n",
       "      <td>0.225353</td>\n",
       "      <td>0.32117</td>\n",
       "      <td>-1.270125</td>\n",
       "      <td>0.500935</td>\n",
       "      <td>-1.357791</td>\n",
       "      <td>-1.425066</td>\n",
       "      <td>-0.862653</td>\n",
       "      <td>-0.874035</td>\n",
       "      <td>-1.168177</td>\n",
       "      <td>-0.500327</td>\n",
       "      <td>1.211932</td>\n",
       "      <td>-0.807565</td>\n",
       "      <td>0.87684</td>\n",
       "    </tr>\n",
       "    <tr>\n",
       "      <th>1</th>\n",
       "      <td>0.247117</td>\n",
       "      <td>-0.482334</td>\n",
       "      <td>-0.679579</td>\n",
       "      <td>0.32117</td>\n",
       "      <td>0.787324</td>\n",
       "      <td>0.500935</td>\n",
       "      <td>1.469448</td>\n",
       "      <td>0.384682</td>\n",
       "      <td>-1.065473</td>\n",
       "      <td>-0.477633</td>\n",
       "      <td>-0.738062</td>\n",
       "      <td>-0.500327</td>\n",
       "      <td>-0.825129</td>\n",
       "      <td>1.238291</td>\n",
       "      <td>0.87684</td>\n",
       "    </tr>\n",
       "  </tbody>\n",
       "</table>\n",
       "</div>"
      ],
      "text/plain": [
       "     reward  difficulty  duration   mobile    social       web       age  \\\n",
       "0 -0.637000    0.436317  0.225353  0.32117 -1.270125  0.500935 -1.357791   \n",
       "1  0.247117   -0.482334 -0.679579  0.32117  0.787324  0.500935  1.469448   \n",
       "\n",
       "     income  frequency  monetary    tenure  info_offer  disc_offer  \\\n",
       "0 -1.425066  -0.862653 -0.874035 -1.168177   -0.500327    1.211932   \n",
       "1  0.384682  -1.065473 -0.477633 -0.738062   -0.500327   -0.825129   \n",
       "\n",
       "   bogo_offer     male  \n",
       "0   -0.807565  0.87684  \n",
       "1    1.238291  0.87684  "
      ]
     },
     "execution_count": 21,
     "metadata": {},
     "output_type": "execute_result"
    }
   ],
   "source": [
    "# Normalize test set\n",
    "X_test_scaled = scaler.transform(X_test)\n",
    "X_test_scaled = pd.DataFrame(X_test_scaled, columns=X_test.columns)\n",
    "X_test_scaled.head(2)"
   ]
  },
  {
   "cell_type": "markdown",
   "metadata": {},
   "source": [
    "### <a id=\"prep8\">8. PCA</a>"
   ]
  },
  {
   "cell_type": "code",
   "execution_count": 22,
   "metadata": {},
   "outputs": [
    {
     "data": {
      "text/plain": [
       "0.961347838685017"
      ]
     },
     "execution_count": 22,
     "metadata": {},
     "output_type": "execute_result"
    }
   ],
   "source": [
    "# Create components\n",
    "pca = PCA(n_components=10, random_state=0)\n",
    "pca.fit(X_train_scaled)\n",
    "pca.explained_variance_ratio_.sum()"
   ]
  },
  {
   "cell_type": "code",
   "execution_count": 23,
   "metadata": {},
   "outputs": [
    {
     "name": "stdout",
     "output_type": "stream",
     "text": [
      "(33410, 10)\n"
     ]
    },
    {
     "data": {
      "text/html": [
       "<div>\n",
       "<style scoped>\n",
       "    .dataframe tbody tr th:only-of-type {\n",
       "        vertical-align: middle;\n",
       "    }\n",
       "\n",
       "    .dataframe tbody tr th {\n",
       "        vertical-align: top;\n",
       "    }\n",
       "\n",
       "    .dataframe thead th {\n",
       "        text-align: right;\n",
       "    }\n",
       "</style>\n",
       "<table border=\"1\" class=\"dataframe\">\n",
       "  <thead>\n",
       "    <tr style=\"text-align: right;\">\n",
       "      <th></th>\n",
       "      <th>comp0</th>\n",
       "      <th>comp1</th>\n",
       "      <th>comp2</th>\n",
       "      <th>comp3</th>\n",
       "      <th>comp4</th>\n",
       "      <th>comp5</th>\n",
       "      <th>comp6</th>\n",
       "      <th>comp7</th>\n",
       "      <th>comp8</th>\n",
       "      <th>comp9</th>\n",
       "    </tr>\n",
       "  </thead>\n",
       "  <tbody>\n",
       "    <tr>\n",
       "      <th>0</th>\n",
       "      <td>0.691450</td>\n",
       "      <td>-0.645447</td>\n",
       "      <td>-0.110821</td>\n",
       "      <td>1.304246</td>\n",
       "      <td>-1.246596</td>\n",
       "      <td>-0.812535</td>\n",
       "      <td>-0.659078</td>\n",
       "      <td>-0.323873</td>\n",
       "      <td>0.901158</td>\n",
       "      <td>-0.331617</td>\n",
       "    </tr>\n",
       "    <tr>\n",
       "      <th>1</th>\n",
       "      <td>1.595753</td>\n",
       "      <td>-0.560244</td>\n",
       "      <td>2.092137</td>\n",
       "      <td>1.289703</td>\n",
       "      <td>-1.320335</td>\n",
       "      <td>-0.684757</td>\n",
       "      <td>-0.903362</td>\n",
       "      <td>0.217998</td>\n",
       "      <td>0.741927</td>\n",
       "      <td>0.180403</td>\n",
       "    </tr>\n",
       "  </tbody>\n",
       "</table>\n",
       "</div>"
      ],
      "text/plain": [
       "      comp0     comp1     comp2     comp3     comp4     comp5     comp6  \\\n",
       "0  0.691450 -0.645447 -0.110821  1.304246 -1.246596 -0.812535 -0.659078   \n",
       "1  1.595753 -0.560244  2.092137  1.289703 -1.320335 -0.684757 -0.903362   \n",
       "\n",
       "      comp7     comp8     comp9  \n",
       "0 -0.323873  0.901158 -0.331617  \n",
       "1  0.217998  0.741927  0.180403  "
      ]
     },
     "execution_count": 23,
     "metadata": {},
     "output_type": "execute_result"
    }
   ],
   "source": [
    "# Transform train set\n",
    "X_train_pca = pca.transform(X_train_scaled)\n",
    "X_train_pca = pd.DataFrame(X_train_pca, columns=['comp' + str(i) for i in range(10)])\n",
    "print(X_train_pca.shape)\n",
    "X_train_pca.head(2)"
   ]
  },
  {
   "cell_type": "code",
   "execution_count": 24,
   "metadata": {},
   "outputs": [
    {
     "name": "stdout",
     "output_type": "stream",
     "text": [
      "(11137, 10)\n"
     ]
    },
    {
     "data": {
      "text/html": [
       "<div>\n",
       "<style scoped>\n",
       "    .dataframe tbody tr th:only-of-type {\n",
       "        vertical-align: middle;\n",
       "    }\n",
       "\n",
       "    .dataframe tbody tr th {\n",
       "        vertical-align: top;\n",
       "    }\n",
       "\n",
       "    .dataframe thead th {\n",
       "        text-align: right;\n",
       "    }\n",
       "</style>\n",
       "<table border=\"1\" class=\"dataframe\">\n",
       "  <thead>\n",
       "    <tr style=\"text-align: right;\">\n",
       "      <th></th>\n",
       "      <th>comp0</th>\n",
       "      <th>comp1</th>\n",
       "      <th>comp2</th>\n",
       "      <th>comp3</th>\n",
       "      <th>comp4</th>\n",
       "      <th>comp5</th>\n",
       "      <th>comp6</th>\n",
       "      <th>comp7</th>\n",
       "      <th>comp8</th>\n",
       "      <th>comp9</th>\n",
       "    </tr>\n",
       "  </thead>\n",
       "  <tbody>\n",
       "    <tr>\n",
       "      <th>0</th>\n",
       "      <td>-0.920296</td>\n",
       "      <td>1.432925</td>\n",
       "      <td>0.587239</td>\n",
       "      <td>-1.974842</td>\n",
       "      <td>0.130724</td>\n",
       "      <td>-0.894055</td>\n",
       "      <td>-1.415897</td>\n",
       "      <td>1.244432</td>\n",
       "      <td>0.151065</td>\n",
       "      <td>-0.630723</td>\n",
       "    </tr>\n",
       "    <tr>\n",
       "      <th>1</th>\n",
       "      <td>4.042239</td>\n",
       "      <td>-0.920470</td>\n",
       "      <td>-2.155202</td>\n",
       "      <td>-0.083894</td>\n",
       "      <td>0.809632</td>\n",
       "      <td>1.755891</td>\n",
       "      <td>-0.399261</td>\n",
       "      <td>0.448724</td>\n",
       "      <td>-0.437092</td>\n",
       "      <td>-0.503487</td>\n",
       "    </tr>\n",
       "  </tbody>\n",
       "</table>\n",
       "</div>"
      ],
      "text/plain": [
       "      comp0     comp1     comp2     comp3     comp4     comp5     comp6  \\\n",
       "0 -0.920296  1.432925  0.587239 -1.974842  0.130724 -0.894055 -1.415897   \n",
       "1  4.042239 -0.920470 -2.155202 -0.083894  0.809632  1.755891 -0.399261   \n",
       "\n",
       "      comp7     comp8     comp9  \n",
       "0  1.244432  0.151065 -0.630723  \n",
       "1  0.448724 -0.437092 -0.503487  "
      ]
     },
     "execution_count": 24,
     "metadata": {},
     "output_type": "execute_result"
    }
   ],
   "source": [
    "# Transform validation set\n",
    "X_val_pca = pca.transform(X_val_scaled)\n",
    "X_val_pca = pd.DataFrame(X_val_pca, columns=['comp' + str(i) for i in range(10)])\n",
    "print(X_val_pca.shape)\n",
    "X_val_pca.head(2)"
   ]
  },
  {
   "cell_type": "code",
   "execution_count": 25,
   "metadata": {},
   "outputs": [
    {
     "name": "stdout",
     "output_type": "stream",
     "text": [
      "(11137, 10)\n"
     ]
    },
    {
     "data": {
      "text/html": [
       "<div>\n",
       "<style scoped>\n",
       "    .dataframe tbody tr th:only-of-type {\n",
       "        vertical-align: middle;\n",
       "    }\n",
       "\n",
       "    .dataframe tbody tr th {\n",
       "        vertical-align: top;\n",
       "    }\n",
       "\n",
       "    .dataframe thead th {\n",
       "        text-align: right;\n",
       "    }\n",
       "</style>\n",
       "<table border=\"1\" class=\"dataframe\">\n",
       "  <thead>\n",
       "    <tr style=\"text-align: right;\">\n",
       "      <th></th>\n",
       "      <th>comp0</th>\n",
       "      <th>comp1</th>\n",
       "      <th>comp2</th>\n",
       "      <th>comp3</th>\n",
       "      <th>comp4</th>\n",
       "      <th>comp5</th>\n",
       "      <th>comp6</th>\n",
       "      <th>comp7</th>\n",
       "      <th>comp8</th>\n",
       "      <th>comp9</th>\n",
       "    </tr>\n",
       "  </thead>\n",
       "  <tbody>\n",
       "    <tr>\n",
       "      <th>0</th>\n",
       "      <td>1.220179</td>\n",
       "      <td>-1.416235</td>\n",
       "      <td>-2.177183</td>\n",
       "      <td>1.246938</td>\n",
       "      <td>-0.025106</td>\n",
       "      <td>-0.782515</td>\n",
       "      <td>0.598424</td>\n",
       "      <td>0.572972</td>\n",
       "      <td>0.066884</td>\n",
       "      <td>0.743792</td>\n",
       "    </tr>\n",
       "    <tr>\n",
       "      <th>1</th>\n",
       "      <td>-0.940575</td>\n",
       "      <td>1.294871</td>\n",
       "      <td>-1.158597</td>\n",
       "      <td>-1.223262</td>\n",
       "      <td>0.062796</td>\n",
       "      <td>-0.877021</td>\n",
       "      <td>-1.282211</td>\n",
       "      <td>0.267981</td>\n",
       "      <td>0.712579</td>\n",
       "      <td>-0.645277</td>\n",
       "    </tr>\n",
       "  </tbody>\n",
       "</table>\n",
       "</div>"
      ],
      "text/plain": [
       "      comp0     comp1     comp2     comp3     comp4     comp5     comp6  \\\n",
       "0  1.220179 -1.416235 -2.177183  1.246938 -0.025106 -0.782515  0.598424   \n",
       "1 -0.940575  1.294871 -1.158597 -1.223262  0.062796 -0.877021 -1.282211   \n",
       "\n",
       "      comp7     comp8     comp9  \n",
       "0  0.572972  0.066884  0.743792  \n",
       "1  0.267981  0.712579 -0.645277  "
      ]
     },
     "execution_count": 25,
     "metadata": {},
     "output_type": "execute_result"
    }
   ],
   "source": [
    "# Transform test set\n",
    "X_test_pca = pca.transform(X_test_scaled)\n",
    "X_test_pca = pd.DataFrame(X_test_pca, columns=['comp' + str(i) for i in range(10)])\n",
    "print(X_test_pca.shape)\n",
    "X_test_pca.head(2)"
   ]
  },
  {
   "cell_type": "code",
   "execution_count": 26,
   "metadata": {},
   "outputs": [
    {
     "data": {
      "text/plain": [
       "18185"
      ]
     },
     "execution_count": 26,
     "metadata": {},
     "output_type": "execute_result"
    }
   ],
   "source": [
    "del X_vt, y_vt, high_corr, to_drop\n",
    "gc.collect()"
   ]
  },
  {
   "cell_type": "markdown",
   "metadata": {},
   "source": [
    "##### With the data preprocessed, we are left with 2 feature sets:\n",
    "1. Set 1 with 8 features (no features with high multicollinearity) - `age`, `difficulty`, `frequency`, `income`, `male`, `monetary`, `reward`, `tenure`\n",
    "2. Set 2 with 15 features - the features in set 1 plus `duration`, `mobile`, `social`, `web`, `info_offers`, `disc_offer`, `bogo_offer`"
   ]
  },
  {
   "cell_type": "markdown",
   "metadata": {},
   "source": [
    "## <a id=\"clfr\">Section III: Modeling</a>\n",
    "\n",
    "### <a id=\"clfr1\">1. Feature correlation with target</a>"
   ]
  },
  {
   "cell_type": "code",
   "execution_count": 27,
   "metadata": {},
   "outputs": [
    {
     "data": {
      "text/plain": [
       "frequency     0.288992\n",
       "monetary      0.283196\n",
       "social        0.221276\n",
       "mobile        0.159169\n",
       "tenure        0.155593\n",
       "income        0.115111\n",
       "age           0.057705\n",
       "disc_offer    0.039475\n",
       "info_offer   -0.003099\n",
       "web          -0.007438\n",
       "duration     -0.015443\n",
       "bogo_offer   -0.037109\n",
       "reward       -0.057826\n",
       "male         -0.090205\n",
       "difficulty   -0.098174\n",
       "Name: target, dtype: float64"
      ]
     },
     "execution_count": 27,
     "metadata": {},
     "output_type": "execute_result"
    }
   ],
   "source": [
    "# Correlation with target\n",
    "target_corr = X_train.assign(target = y_train).corr().iloc[-1, :-1].sort_values(ascending=False)\n",
    "target_corr"
   ]
  },
  {
   "cell_type": "code",
   "execution_count": 28,
   "metadata": {},
   "outputs": [
    {
     "data": {
      "image/png": "[encoded data removed]",
      "text/plain": [
       "<Figure size 864x432 with 1 Axes>"
      ]
     },
     "metadata": {
      "needs_background": "light"
     },
     "output_type": "display_data"
    }
   ],
   "source": [
    "plt.figure(figsize=(12, 6))\n",
    "sns.barplot(x=target_corr.values, y=target_corr.index)\n",
    "plt.title('Correlation with Target Label', fontsize='x-large');"
   ]
  },
  {
   "cell_type": "markdown",
   "metadata": {},
   "source": [
    "##### If we were using a linear model, it looks like the spending habits of a customer would be the best predictor of whether or not they would complete an offer."
   ]
  },
  {
   "cell_type": "markdown",
   "metadata": {},
   "source": [
    "### <a id=\"clfr3\">3. Evaluation functions</a>"
   ]
  },
  {
   "cell_type": "code",
   "execution_count": 29,
   "metadata": {},
   "outputs": [],
   "source": [
    "def model_eval(train_pred, val_pred, test_pred=None,\n",
    "               train_true=y_train, val_true=y_val, test_true=y_test):\n",
    "    \n",
    "    '''\n",
    "    Get the accuracy and ROC-AUC scores of the train, validation, and test sets.\n",
    "    \n",
    "    Args:\n",
    "        (1) train_pred (array-like) - predictions on training set\n",
    "        (2) val_pred (array-like) - predictions on validation set\n",
    "        (3) test_pred (array-like) - predictions on test set\n",
    "        (4) train_true (array-like) - true labels from train set\n",
    "        (5) val_true (array-like) - true labels from validation set\n",
    "        (6) test_true (array-like) - true labels from test set\n",
    "        \n",
    "    Returns:\n",
    "        Accuracy and ROC-AUC scores of the train, validation, and test sets (Pandas dataframe)\n",
    "    '''\n",
    "    \n",
    "    metrics = dict()\n",
    "    \n",
    "    if train_pred is not None:\n",
    "        metrics['train'] = [accuracy_score(train_true, train_pred)]\n",
    "        metrics['train'].append(roc_auc_score(train_true, train_pred))\n",
    "        \n",
    "    if val_pred is not None:\n",
    "        metrics['validation'] = [accuracy_score(val_true, val_pred)]\n",
    "        metrics['validation'].append(roc_auc_score(val_true, val_pred))\n",
    "        \n",
    "    if test_pred is not None:\n",
    "        metrics['test'] = [accuracy_score(test_true, test_pred)]\n",
    "        metrics['test'].append(roc_auc_score(test_true, test_pred))\n",
    "        \n",
    "    return pd.DataFrame(metrics, index=['accuracy', 'ROC-AUC score']).T"
   ]
  },
  {
   "cell_type": "code",
   "execution_count": 30,
   "metadata": {},
   "outputs": [],
   "source": [
    "def plot_roc(estimator, n_subplots, train_X, val_X, test_X=None,\n",
    "             train_y=y_train, val_y=y_val, test_y=y_test):\n",
    "    \n",
    "    '''\n",
    "    Plot the ROC curve for the train, validation, and test sets.\n",
    "    \n",
    "    Args:\n",
    "        (1) estimator (Sklearn estimator) - fitted classifier\n",
    "        (2) n_subplots (int) - number of sets to plot for\n",
    "        (3) train_X (Pandas dataframe) - X from training set\n",
    "        (4) val_X (Pandas dataframe) - X from validation set\n",
    "        (5) test_X (Pandas dataframe) - X from test set\n",
    "        (6) train_y (Pandas dataframe) - y from training set\n",
    "        (7) val_y (Pandas dataframe) - y from validation set\n",
    "        (8) test_y (Pandas dataframe) - y from test set\n",
    "        \n",
    "    Returns: None.\n",
    "    '''\n",
    "    \n",
    "    fig, ax = plt.subplots(1, n_subplots, figsize=(16, 4))\n",
    "    i = 0\n",
    "    \n",
    "    if train_X is not None:\n",
    "        plot_roc_curve(estimator, train_X, train_y, ax=ax[i])\n",
    "        ax[i].set_title('Train ROC')\n",
    "        i += 1\n",
    "        \n",
    "    if val_X is not None:\n",
    "        plot_roc_curve(estimator, val_X, val_y, ax=ax[i])\n",
    "        ax[i].set_title('Validation ROC')\n",
    "        i += 1\n",
    "        \n",
    "    if test_X is not None:\n",
    "        plot_roc_curve(estimator, test_X, test_y, ax=ax[i])\n",
    "        ax[i].set_title('Test ROC')"
   ]
  },
  {
   "cell_type": "code",
   "execution_count": 31,
   "metadata": {},
   "outputs": [],
   "source": [
    "def plot_confusion(estimator, n_subplots, train_X, val_X, test_X=None,\n",
    "                   train_y=y_train, val_y=y_val, test_y=y_test, color='Blues'):\n",
    "    \n",
    "    '''\n",
    "    Plot a heatmap of the confusion matrix for the train, validation, and test sets.\n",
    "    \n",
    "    Args:\n",
    "        (1) estimator (Sklearn estimator) - fitted classifier\n",
    "        (2) n_subplots (int) - number of sets to plot for\n",
    "        (3) train_X (Pandas dataframe) - X from training set\n",
    "        (4) val_X (Pandas dataframe) - X from validation set\n",
    "        (5) test_X (Pandas dataframe) - X from test set\n",
    "        (6) train_y (Pandas dataframe) - y from training set\n",
    "        (7) val_y (Pandas dataframe) - y from validation set\n",
    "        (8) test_y (Pandas dataframe) - y from test set\n",
    "        \n",
    "    Returns: None.\n",
    "    '''\n",
    "    \n",
    "    fig, ax = plt.subplots(1, n_subplots, figsize=(15, 3))\n",
    "    i = 0\n",
    "    \n",
    "    if train_X is not None:\n",
    "        plot_confusion_matrix(estimator, train_X, train_y, cmap=color, ax=ax[i])\n",
    "        ax[i].set_title('Train Confusion Matrix')\n",
    "        ax[i].grid(False)\n",
    "        i += 1\n",
    "        \n",
    "    if val_X is not None:\n",
    "        plot_confusion_matrix(estimator, val_X, val_y, cmap=color, ax=ax[i])\n",
    "        ax[i].set_title('Validation Confusion Matrix')\n",
    "        ax[i].grid(False)\n",
    "        i += 1\n",
    "        \n",
    "    if test_X is not None:\n",
    "        plot_confusion_matrix(estimator, test_X, test_y, cmap=color, ax=ax[i])\n",
    "        ax[i].set_title('Test Confusion Matrix')\n",
    "        ax[i].grid(False)"
   ]
  },
  {
   "cell_type": "markdown",
   "metadata": {},
   "source": [
    "### <a id=\"clfr3\">3. Logistic regression</a>"
   ]
  },
  {
   "cell_type": "code",
   "execution_count": 32,
   "metadata": {},
   "outputs": [
    {
     "data": {
      "text/plain": [
       "((33410, 10), (11137, 10), (11137, 10))"
      ]
     },
     "execution_count": 32,
     "metadata": {},
     "output_type": "execute_result"
    }
   ],
   "source": [
    "X_train_scaled_sub = X_train_scaled[low_corr_feats]\n",
    "X_val_scaled_sub = X_val_scaled[low_corr_feats]\n",
    "X_test_scaled_sub = X_test_scaled[low_corr_feats]\n",
    "X_train_scaled_sub.shape, X_val_scaled_sub.shape, X_test_scaled_sub.shape"
   ]
  },
  {
   "cell_type": "code",
   "execution_count": 33,
   "metadata": {},
   "outputs": [
    {
     "name": "stdout",
     "output_type": "stream",
     "text": [
      "0.7645445306819436\n"
     ]
    },
    {
     "data": {
      "text/plain": [
       "{'C': 0.0031622776601683794,\n",
       " 'class_weight': {0: 1.0, 1: 1},\n",
       " 'penalty': 'l1',\n",
       " 'solver': 'liblinear'}"
      ]
     },
     "execution_count": 33,
     "metadata": {},
     "output_type": "execute_result"
    }
   ],
   "source": [
    "# Grid Search\n",
    "lr = LogisticRegression(random_state=0)\n",
    "lr_params = {'class_weight': [{0: w, 1: 1} for w in np.arange(1, 1.5, 0.2)],\n",
    "             'C': np.logspace(-3, -1, 5),\n",
    "             'penalty': ['l1', 'l2'],\n",
    "             'solver': ['lbfgs', 'liblinear']}\n",
    "\n",
    "lr_search = GridSearchCV(lr, lr_params, scoring='roc_auc', cv=10, n_jobs=4)\n",
    "lr_search.fit(X_train_scaled_sub, y_train)\n",
    "print(lr_search.best_score_)\n",
    "lr_search.best_params_"
   ]
  },
  {
   "cell_type": "code",
   "execution_count": 34,
   "metadata": {},
   "outputs": [
    {
     "name": "stdout",
     "output_type": "stream",
     "text": [
      "              precision    recall  f1-score   support\n",
      "\n",
      "           0       0.69      0.73      0.71     16629\n",
      "           1       0.71      0.67      0.69     16781\n",
      "\n",
      "    accuracy                           0.70     33410\n",
      "   macro avg       0.70      0.70      0.70     33410\n",
      "weighted avg       0.70      0.70      0.70     33410\n",
      "\n",
      "              precision    recall  f1-score   support\n",
      "\n",
      "           0       0.69      0.73      0.71      5697\n",
      "           1       0.70      0.66      0.68      5440\n",
      "\n",
      "    accuracy                           0.69     11137\n",
      "   macro avg       0.69      0.69      0.69     11137\n",
      "weighted avg       0.69      0.69      0.69     11137\n",
      "\n"
     ]
    }
   ],
   "source": [
    "# Train model\n",
    "lr = lr_search.best_estimator_\n",
    "lr.fit(X_train_scaled_sub, y_train)\n",
    "\n",
    "# Make predictions\n",
    "lr_train_pred = lr.predict(X_train_scaled_sub)\n",
    "lr_val_pred = lr.predict(X_val_scaled_sub)\n",
    "\n",
    "# Evaluate predictions\n",
    "print(report(y_train, lr_train_pred))\n",
    "print(report(y_val, lr_val_pred))"
   ]
  },
  {
   "cell_type": "code",
   "execution_count": 35,
   "metadata": {},
   "outputs": [
    {
     "data": {
      "image/png": "[encoded data removed]",
      "text/plain": [
       "<Figure size 1080x216 with 4 Axes>"
      ]
     },
     "metadata": {
      "needs_background": "light"
     },
     "output_type": "display_data"
    }
   ],
   "source": [
    "# Confusion matrix\n",
    "plot_confusion(lr, 2, X_train_scaled_sub, X_val_scaled_sub)"
   ]
  },
  {
   "cell_type": "code",
   "execution_count": 36,
   "metadata": {},
   "outputs": [
    {
     "data": {
      "text/plain": [
       "social        0.535700\n",
       "frequency     0.455692\n",
       "monetary      0.398415\n",
       "income        0.169808\n",
       "web           0.140417\n",
       "tenure        0.068043\n",
       "age           0.052495\n",
       "difficulty   -0.049684\n",
       "male         -0.069628\n",
       "reward       -0.220321\n",
       "dtype: float64"
      ]
     },
     "execution_count": 36,
     "metadata": {},
     "output_type": "execute_result"
    }
   ],
   "source": [
    "# Coefficients\n",
    "lr_coefs = pd.Series(lr.coef_[0], index=X_train_scaled_sub.columns).sort_values(ascending=False)\n",
    "lr_coefs"
   ]
  },
  {
   "cell_type": "markdown",
   "metadata": {},
   "source": [
    "##### The logistic regression model achieved an prediction accuracy and f1-score of 0.70 for both the training and validation sets. Since the target classes were balanced beforehand, we can see that there isn't much of a disparity between the false negatives and false positives.\n",
    "\n",
    "##### It looks like the `social`, `frequency`, and `monetary` features have the most predictive power in this model. The posistive relationship between the customer's spending habits and their likelihood of completing an offer agrees with the analysis from the previous notebooks, but it's interesting to see that sending the offer through social media has an even greater importance here. Perhaps this is the main channel in which customers are responding to offers.\n",
    "\n",
    "##### Surprisingly, `reward` has a negative coefficient, which is counterintuitive because one would expect that reward has a positive relationship with offer completion. Of course, this doesn't imply that lowering rewards would increase offer completions. It could just be that informational offers (which have 0 reward) are pulling this coefficient in the negative direction."
   ]
  },
  {
   "cell_type": "markdown",
   "metadata": {},
   "source": [
    "### <a id=\"clfr4\">4. K-nearest Neighbors</a>"
   ]
  },
  {
   "cell_type": "code",
   "execution_count": null,
   "metadata": {},
   "outputs": [],
   "source": []
  }
 ],
 "metadata": {
  "kernelspec": {
   "display_name": "Python 3",
   "language": "python",
   "name": "python3"
  },
  "language_info": {
   "codemirror_mode": {
    "name": "ipython",
    "version": 3
   },
   "file_extension": ".py",
   "mimetype": "text/x-python",
   "name": "python",
   "nbconvert_exporter": "python",
   "pygments_lexer": "ipython3",
   "version": "3.7.8"
  }
 },
 "nbformat": 4,
 "nbformat_minor": 4
}
