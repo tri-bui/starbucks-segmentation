{
 "cells": [
  {
   "cell_type": "markdown",
   "metadata": {},
   "source": [
    "# Starbucks Promotion Segmentation - Modeling\n",
    "\n",
    "## Contents\n",
    "\n",
    "### [Section I: Dependencies and Data](#load)\n",
    "### [Section II: Data Preprocessing](#prep)\n",
    "  ##### [1. Extract offers](#prep1)\n",
    "  ##### [2. Encode categorical variables](#prep2)\n",
    "  ##### [3. Create target label](#prep3)\n",
    "  ##### [4. Balance target classes](#prep4)\n",
    "  ##### [5. Split data into 3 sets](#prep5)\n",
    "  ##### [6. Multicollinearity](#prep6)\n",
    "  ##### [7. Normalize values](#prep7)\n",
    "### [Section III: Modeling](#clfr)\n",
    "  ##### [1. Feature correlation with target](#clfr1)\n",
    "  ##### [2. Evaluation functions](#clfr2)\n",
    "  ##### [3. Logistic regression](#clfr3)\n",
    "  ##### [4. K-nearest neighbors](#clfr4)\n",
    "  ##### [5. Support vector machines](#clfr5)\n",
    "  ##### [6. Decision tree](#clfr6)\n",
    "  ##### [7. Random forest](#clfr7)\n",
    "  ##### [8. LightGBM](#clfr8)\n",
    "  ##### [9. Final classifier](#clfr9)\n",
    "### [Section IV: Conclusion](#conc)"
   ]
  },
  {
   "cell_type": "markdown",
   "metadata": {},
   "source": [
    "## Introduction\n",
    "\n",
    "In this notebook, we will build a classifier to predict whether a customer will respond to an offer. This predictor will help us decide whether we should send users a particular offer. The input of this classifier includes an offer, a user, and additional features relating to the offer and user. It will produce a binary output predicting whether or not the user will complete the offer. I will be trying several machine learning classification models and evaluating their predictions with accuracy, f1-score, and the confusion matrix."
   ]
  },
  {
   "cell_type": "markdown",
   "metadata": {},
   "source": [
    "## <a id=\"load\">Section I: Dependencies and data</a>"
   ]
  },
  {
   "cell_type": "code",
   "execution_count": 1,
   "metadata": {},
   "outputs": [],
   "source": [
    "%matplotlib inline\n",
    "import matplotlib.pyplot as plt\n",
    "import seaborn as sns\n",
    "import plotly.express as px\n",
    "import plotly.graph_objs as go\n",
    "import plotly.subplots as subplots\n",
    "sns.set()\n",
    "\n",
    "import gc\n",
    "import joblib\n",
    "import numpy as np\n",
    "import pandas as pd\n",
    "\n",
    "from sklearn.model_selection import train_test_split, cross_validate, GridSearchCV\n",
    "from sklearn.preprocessing import StandardScaler\n",
    "from sklearn.decomposition import PCA\n",
    "from sklearn.linear_model import LogisticRegression\n",
    "from sklearn.neighbors import KNeighborsClassifier\n",
    "from sklearn.svm import SVC\n",
    "from sklearn.tree import DecisionTreeClassifier\n",
    "from sklearn.ensemble import RandomForestClassifier\n",
    "from sklearn.metrics import accuracy_score, f1_score, roc_auc_score, log_loss,\\\n",
    "                            plot_confusion_matrix, classification_report as report\n",
    "\n",
    "import lightgbm as lgb\n",
    "import optuna"
   ]
  },
  {
   "cell_type": "code",
   "execution_count": 2,
   "metadata": {},
   "outputs": [
    {
     "name": "stdout",
     "output_type": "stream",
     "text": [
      "<class 'pandas.core.frame.DataFrame'>\n",
      "Int64Index: 148431 entries, 0 to 148430\n",
      "Data columns (total 31 columns):\n",
      " #   Column            Non-Null Count   Dtype         \n",
      "---  ------            --------------   -----         \n",
      " 0   index             148431 non-null  int64         \n",
      " 1   event             148431 non-null  object        \n",
      " 2   time              148431 non-null  int64         \n",
      " 3   offer_id          148431 non-null  int64         \n",
      " 4   user_id           148431 non-null  int64         \n",
      " 5   amount            148431 non-null  float64       \n",
      " 6   reward            148431 non-null  int64         \n",
      " 7   difficulty        148431 non-null  int64         \n",
      " 8   duration          148431 non-null  int64         \n",
      " 9   offer_type        148431 non-null  object        \n",
      " 10  mobile            148431 non-null  int64         \n",
      " 11  social            148431 non-null  int64         \n",
      " 12  web               148431 non-null  int64         \n",
      " 13  expire_time       148431 non-null  int64         \n",
      " 14  oid_uid           148431 non-null  object        \n",
      " 15  viewed            148431 non-null  int64         \n",
      " 16  completed         148431 non-null  int64         \n",
      " 17  group             148431 non-null  int64         \n",
      " 18  gender            148431 non-null  object        \n",
      " 19  age               148431 non-null  int64         \n",
      " 20  income            148431 non-null  int64         \n",
      " 21  signup_date       148431 non-null  datetime64[ns]\n",
      " 22  signup_year       148431 non-null  int64         \n",
      " 23  age_group         148431 non-null  int64         \n",
      " 24  income_group      148431 non-null  int64         \n",
      " 25  frequency         148431 non-null  int64         \n",
      " 26  monetary          148431 non-null  float64       \n",
      " 27  tenure            148431 non-null  int64         \n",
      " 28  customer_tier     148431 non-null  object        \n",
      " 29  cluster           148431 non-null  int32         \n",
      " 30  customer_cluster  148431 non-null  object        \n",
      "dtypes: datetime64[ns](1), float64(2), int32(1), int64(21), object(6)\n",
      "memory usage: 35.7+ MB\n"
     ]
    }
   ],
   "source": [
    "# Data\n",
    "offers = pd.read_pickle('../data/out2/offers.pkl')\n",
    "offers.info()"
   ]
  },
  {
   "cell_type": "markdown",
   "metadata": {},
   "source": [
    "## <a id=\"prep\">Section II: Data Preprocessing</a>\n",
    "\n",
    "### <a id=\"prep1\">1. Extract offers</a>\n",
    "\n",
    "Since we are trying to predict whether a user will respond to an offer if we send it to them, the only data of interest are \"offer received\" events."
   ]
  },
  {
   "cell_type": "code",
   "execution_count": 3,
   "metadata": {},
   "outputs": [
    {
     "data": {
      "text/html": [
       "<div>\n",
       "<style scoped>\n",
       "    .dataframe tbody tr th:only-of-type {\n",
       "        vertical-align: middle;\n",
       "    }\n",
       "\n",
       "    .dataframe tbody tr th {\n",
       "        vertical-align: top;\n",
       "    }\n",
       "\n",
       "    .dataframe thead th {\n",
       "        text-align: right;\n",
       "    }\n",
       "</style>\n",
       "<table border=\"1\" class=\"dataframe\">\n",
       "  <thead>\n",
       "    <tr style=\"text-align: right;\">\n",
       "      <th></th>\n",
       "      <th>index</th>\n",
       "      <th>event</th>\n",
       "      <th>time</th>\n",
       "      <th>offer_id</th>\n",
       "      <th>user_id</th>\n",
       "      <th>amount</th>\n",
       "      <th>reward</th>\n",
       "      <th>difficulty</th>\n",
       "      <th>duration</th>\n",
       "      <th>offer_type</th>\n",
       "      <th>...</th>\n",
       "      <th>signup_date</th>\n",
       "      <th>signup_year</th>\n",
       "      <th>age_group</th>\n",
       "      <th>income_group</th>\n",
       "      <th>frequency</th>\n",
       "      <th>monetary</th>\n",
       "      <th>tenure</th>\n",
       "      <th>customer_tier</th>\n",
       "      <th>cluster</th>\n",
       "      <th>customer_cluster</th>\n",
       "    </tr>\n",
       "  </thead>\n",
       "  <tbody>\n",
       "    <tr>\n",
       "      <th>0</th>\n",
       "      <td>0</td>\n",
       "      <td>offer received</td>\n",
       "      <td>0</td>\n",
       "      <td>7</td>\n",
       "      <td>2</td>\n",
       "      <td>0.0</td>\n",
       "      <td>5</td>\n",
       "      <td>5</td>\n",
       "      <td>7</td>\n",
       "      <td>bogo</td>\n",
       "      <td>...</td>\n",
       "      <td>2017-05-09</td>\n",
       "      <td>2017</td>\n",
       "      <td>5</td>\n",
       "      <td>5</td>\n",
       "      <td>7</td>\n",
       "      <td>159.27</td>\n",
       "      <td>15</td>\n",
       "      <td>Silver</td>\n",
       "      <td>0</td>\n",
       "      <td>Female low spenders</td>\n",
       "    </tr>\n",
       "    <tr>\n",
       "      <th>1</th>\n",
       "      <td>2</td>\n",
       "      <td>offer received</td>\n",
       "      <td>0</td>\n",
       "      <td>5</td>\n",
       "      <td>3</td>\n",
       "      <td>0.0</td>\n",
       "      <td>2</td>\n",
       "      <td>10</td>\n",
       "      <td>7</td>\n",
       "      <td>discount</td>\n",
       "      <td>...</td>\n",
       "      <td>2018-04-26</td>\n",
       "      <td>2018</td>\n",
       "      <td>4</td>\n",
       "      <td>3</td>\n",
       "      <td>3</td>\n",
       "      <td>57.73</td>\n",
       "      <td>4</td>\n",
       "      <td>Bronze</td>\n",
       "      <td>3</td>\n",
       "      <td>Male low spenders</td>\n",
       "    </tr>\n",
       "  </tbody>\n",
       "</table>\n",
       "<p>2 rows × 31 columns</p>\n",
       "</div>"
      ],
      "text/plain": [
       "   index           event  time  offer_id  user_id  amount  reward  difficulty  \\\n",
       "0      0  offer received     0         7        2     0.0       5           5   \n",
       "1      2  offer received     0         5        3     0.0       2          10   \n",
       "\n",
       "   duration offer_type  ...  signup_date  signup_year  age_group  \\\n",
       "0         7       bogo  ...   2017-05-09         2017          5   \n",
       "1         7   discount  ...   2018-04-26         2018          4   \n",
       "\n",
       "   income_group frequency  monetary  tenure  customer_tier cluster  \\\n",
       "0             5         7    159.27      15         Silver       0   \n",
       "1             3         3     57.73       4         Bronze       3   \n",
       "\n",
       "      customer_cluster  \n",
       "0  Female low spenders  \n",
       "1    Male low spenders  \n",
       "\n",
       "[2 rows x 31 columns]"
      ]
     },
     "execution_count": 3,
     "metadata": {},
     "output_type": "execute_result"
    }
   ],
   "source": [
    "df = offers.query('event == \"offer received\"').copy()\n",
    "df.head(2)"
   ]
  },
  {
   "cell_type": "code",
   "execution_count": 4,
   "metadata": {},
   "outputs": [
    {
     "name": "stdout",
     "output_type": "stream",
     "text": [
      "<class 'pandas.core.frame.DataFrame'>\n",
      "Int64Index: 66501 entries, 0 to 132146\n",
      "Data columns (total 20 columns):\n",
      " #   Column        Non-Null Count  Dtype  \n",
      "---  ------        --------------  -----  \n",
      " 0   offer_id      66501 non-null  int64  \n",
      " 1   user_id       66501 non-null  int64  \n",
      " 2   reward        66501 non-null  int64  \n",
      " 3   difficulty    66501 non-null  int64  \n",
      " 4   duration      66501 non-null  int64  \n",
      " 5   offer_type    66501 non-null  object \n",
      " 6   mobile        66501 non-null  int64  \n",
      " 7   social        66501 non-null  int64  \n",
      " 8   web           66501 non-null  int64  \n",
      " 9   viewed        66501 non-null  int64  \n",
      " 10  completed     66501 non-null  int64  \n",
      " 11  group         66501 non-null  int64  \n",
      " 12  gender        66501 non-null  object \n",
      " 13  age           66501 non-null  int64  \n",
      " 14  income        66501 non-null  int64  \n",
      " 15  age_group     66501 non-null  int64  \n",
      " 16  income_group  66501 non-null  int64  \n",
      " 17  frequency     66501 non-null  int64  \n",
      " 18  monetary      66501 non-null  float64\n",
      " 19  tenure        66501 non-null  int64  \n",
      "dtypes: float64(1), int64(17), object(2)\n",
      "memory usage: 10.7+ MB\n"
     ]
    }
   ],
   "source": [
    "# Drop columns that won't be used\n",
    "to_drop = ['index', 'event', 'time', 'amount', 'expire_time', 'oid_uid',\n",
    "           'signup_date', 'signup_year', 'customer_tier', 'customer_cluster', 'cluster']\n",
    "df.drop(to_drop, axis=1, inplace=True)\n",
    "df.info()"
   ]
  },
  {
   "cell_type": "markdown",
   "metadata": {},
   "source": [
    "### <a id=\"prep2\">2. Encode categorical variables</a>"
   ]
  },
  {
   "cell_type": "code",
   "execution_count": 5,
   "metadata": {},
   "outputs": [
    {
     "name": "stdout",
     "output_type": "stream",
     "text": [
      "13300 26664 26537\n"
     ]
    },
    {
     "data": {
      "text/plain": [
       "discount         26664\n",
       "bogo             26537\n",
       "informational    13300\n",
       "Name: offer_type, dtype: int64"
      ]
     },
     "execution_count": 5,
     "metadata": {},
     "output_type": "execute_result"
    }
   ],
   "source": [
    "# Encode offer type\n",
    "df['info_offer'] = df.offer_type.apply(lambda t: int(t == 'informational'))\n",
    "df['disc_offer'] = df.offer_type.apply(lambda t: int(t == 'discount'))\n",
    "df['bogo_offer'] = df.offer_type.apply(lambda t: int(t == 'bogo'))\n",
    "print(df.info_offer.sum(), df.disc_offer.sum(), df.bogo_offer.sum())\n",
    "df.offer_type.value_counts()"
   ]
  },
  {
   "cell_type": "code",
   "execution_count": 6,
   "metadata": {},
   "outputs": [
    {
     "name": "stdout",
     "output_type": "stream",
     "text": [
      "38129\n"
     ]
    },
    {
     "data": {
      "text/plain": [
       "M    38129\n",
       "F    27456\n",
       "O      916\n",
       "Name: gender, dtype: int64"
      ]
     },
     "execution_count": 6,
     "metadata": {},
     "output_type": "execute_result"
    }
   ],
   "source": [
    "# Encode gender\n",
    "df['male'] = df.gender.apply(lambda g: int(g == 'M'))\n",
    "print(df.male.sum())\n",
    "df.gender.value_counts()"
   ]
  },
  {
   "cell_type": "code",
   "execution_count": 7,
   "metadata": {},
   "outputs": [
    {
     "data": {
      "text/plain": [
       "(66501, 22)"
      ]
     },
     "execution_count": 7,
     "metadata": {},
     "output_type": "execute_result"
    }
   ],
   "source": [
    "# Drop categorical columns\n",
    "df.drop(['offer_type', 'gender'], axis=1, inplace=True)\n",
    "df.shape"
   ]
  },
  {
   "cell_type": "markdown",
   "metadata": {},
   "source": [
    "##### I decided to one-hot encode `offer_type` because it has low cardinality. For `gender` I created only 1 binary feature to indicate whether the user was male (the majority class) because the \"other\" gender is a rare category."
   ]
  },
  {
   "cell_type": "markdown",
   "metadata": {},
   "source": [
    "### <a id=\"prep3\">3. Create target label</a>\n",
    "\n",
    "The target label is whether or not the user viewed and completed the offered. If a user completed an offer without viewing it first, that user was not aware of the offer and spent the money anyway, which means there was no point in sending an offer to that customer."
   ]
  },
  {
   "cell_type": "code",
   "execution_count": 8,
   "metadata": {},
   "outputs": [
    {
     "data": {
      "text/plain": [
       "0    38659\n",
       "1    27842\n",
       "Name: target, dtype: int64"
      ]
     },
     "execution_count": 8,
     "metadata": {},
     "output_type": "execute_result"
    }
   ],
   "source": [
    "df['target'] = df.apply(lambda o: int(o.viewed == o.completed == 1), axis=1)\n",
    "df.target.value_counts()"
   ]
  },
  {
   "cell_type": "code",
   "execution_count": 9,
   "metadata": {},
   "outputs": [
    {
     "data": {
      "text/plain": [
       "(66501, 16)"
      ]
     },
     "execution_count": 9,
     "metadata": {},
     "output_type": "execute_result"
    }
   ],
   "source": [
    "to_drop = ['offer_id', 'user_id', 'age_group', 'income_group', 'viewed', 'completed', 'group']\n",
    "df.drop(to_drop, axis=1, inplace=True)\n",
    "df.shape"
   ]
  },
  {
   "cell_type": "markdown",
   "metadata": {},
   "source": [
    "### <a id=\"prep4\">4. Balance target classes</a>"
   ]
  },
  {
   "cell_type": "code",
   "execution_count": 10,
   "metadata": {},
   "outputs": [
    {
     "name": "stdout",
     "output_type": "stream",
     "text": [
      "(55684, 16)\n"
     ]
    },
    {
     "data": {
      "text/html": [
       "<div>\n",
       "<style scoped>\n",
       "    .dataframe tbody tr th:only-of-type {\n",
       "        vertical-align: middle;\n",
       "    }\n",
       "\n",
       "    .dataframe tbody tr th {\n",
       "        vertical-align: top;\n",
       "    }\n",
       "\n",
       "    .dataframe thead th {\n",
       "        text-align: right;\n",
       "    }\n",
       "</style>\n",
       "<table border=\"1\" class=\"dataframe\">\n",
       "  <thead>\n",
       "    <tr style=\"text-align: right;\">\n",
       "      <th></th>\n",
       "      <th>reward</th>\n",
       "      <th>difficulty</th>\n",
       "      <th>duration</th>\n",
       "      <th>mobile</th>\n",
       "      <th>social</th>\n",
       "      <th>web</th>\n",
       "      <th>age</th>\n",
       "      <th>income</th>\n",
       "      <th>frequency</th>\n",
       "      <th>monetary</th>\n",
       "      <th>tenure</th>\n",
       "      <th>info_offer</th>\n",
       "      <th>disc_offer</th>\n",
       "      <th>bogo_offer</th>\n",
       "      <th>male</th>\n",
       "      <th>target</th>\n",
       "    </tr>\n",
       "  </thead>\n",
       "  <tbody>\n",
       "    <tr>\n",
       "      <th>0</th>\n",
       "      <td>5</td>\n",
       "      <td>5</td>\n",
       "      <td>7</td>\n",
       "      <td>1</td>\n",
       "      <td>0</td>\n",
       "      <td>1</td>\n",
       "      <td>75</td>\n",
       "      <td>100000</td>\n",
       "      <td>7</td>\n",
       "      <td>159.27</td>\n",
       "      <td>15</td>\n",
       "      <td>0</td>\n",
       "      <td>0</td>\n",
       "      <td>1</td>\n",
       "      <td>0</td>\n",
       "      <td>1</td>\n",
       "    </tr>\n",
       "    <tr>\n",
       "      <th>1</th>\n",
       "      <td>2</td>\n",
       "      <td>10</td>\n",
       "      <td>7</td>\n",
       "      <td>1</td>\n",
       "      <td>0</td>\n",
       "      <td>1</td>\n",
       "      <td>68</td>\n",
       "      <td>70000</td>\n",
       "      <td>3</td>\n",
       "      <td>57.73</td>\n",
       "      <td>4</td>\n",
       "      <td>0</td>\n",
       "      <td>1</td>\n",
       "      <td>0</td>\n",
       "      <td>1</td>\n",
       "      <td>0</td>\n",
       "    </tr>\n",
       "  </tbody>\n",
       "</table>\n",
       "</div>"
      ],
      "text/plain": [
       "   reward  difficulty  duration  mobile  social  web  age  income  frequency  \\\n",
       "0       5           5         7       1       0    1   75  100000          7   \n",
       "1       2          10         7       1       0    1   68   70000          3   \n",
       "\n",
       "   monetary  tenure  info_offer  disc_offer  bogo_offer  male  target  \n",
       "0    159.27      15           0           0           1     0       1  \n",
       "1     57.73       4           0           1           0     1       0  "
      ]
     },
     "execution_count": 10,
     "metadata": {},
     "output_type": "execute_result"
    }
   ],
   "source": [
    "# Downsample class 0\n",
    "df = pd.concat([df.query('target == 1'), df.query('target == 0').sample(27842, random_state=0)]).sort_index()\n",
    "print(df.shape)\n",
    "df.head(2)"
   ]
  },
  {
   "cell_type": "code",
   "execution_count": 11,
   "metadata": {},
   "outputs": [],
   "source": [
    "# # Upsample class 1\n",
    "# df = pd.concat([df, df.query('target == 1').sample(38659 - 27842, random_state=0)]).reset_index(drop=True)\n",
    "# print(df.shape)\n",
    "# df.head(2)"
   ]
  },
  {
   "cell_type": "code",
   "execution_count": 12,
   "metadata": {},
   "outputs": [
    {
     "data": {
      "text/plain": [
       "1    27842\n",
       "0    27842\n",
       "Name: target, dtype: int64"
      ]
     },
     "execution_count": 12,
     "metadata": {},
     "output_type": "execute_result"
    }
   ],
   "source": [
    "df.target.value_counts()"
   ]
  },
  {
   "cell_type": "markdown",
   "metadata": {},
   "source": [
    "### <a id=\"prep5\">5. Split data into 3 sets</a>"
   ]
  },
  {
   "cell_type": "code",
   "execution_count": 13,
   "metadata": {},
   "outputs": [
    {
     "data": {
      "text/plain": [
       "((55684, 15), (55684,))"
      ]
     },
     "execution_count": 13,
     "metadata": {},
     "output_type": "execute_result"
    }
   ],
   "source": [
    "X = df.drop('target', axis=1).copy() # features\n",
    "y = df['target'].copy() # target label\n",
    "X.shape, y.shape"
   ]
  },
  {
   "cell_type": "code",
   "execution_count": 14,
   "metadata": {},
   "outputs": [
    {
     "data": {
      "text/plain": [
       "((33410, 15), (22274, 15), (33410,), (22274,))"
      ]
     },
     "execution_count": 14,
     "metadata": {},
     "output_type": "execute_result"
    }
   ],
   "source": [
    "# First split - train set (60%)\n",
    "X_train, X_vt, y_train, y_vt = train_test_split(X, y, train_size=0.6, random_state=0)\n",
    "X_train.shape, X_vt.shape, y_train.shape, y_vt.shape"
   ]
  },
  {
   "cell_type": "code",
   "execution_count": 15,
   "metadata": {},
   "outputs": [
    {
     "data": {
      "text/plain": [
       "((11137, 15), (11137, 15), (11137,), (11137,))"
      ]
     },
     "execution_count": 15,
     "metadata": {},
     "output_type": "execute_result"
    }
   ],
   "source": [
    "# Second split - validation and test sets (20% each)\n",
    "X_val, X_test, y_val, y_test = train_test_split(X_vt, y_vt, train_size=0.5, random_state=0)\n",
    "X_val.shape, X_test.shape, y_val.shape, y_test.shape"
   ]
  },
  {
   "cell_type": "code",
   "execution_count": 16,
   "metadata": {},
   "outputs": [
    {
     "name": "stdout",
     "output_type": "stream",
     "text": [
      "Proportion of offers completed in:\n",
      "Train set: 0.5022747680335229\n",
      "Validation set: 0.48846188381072103\n",
      "Test set: 0.5047140163419234\n"
     ]
    }
   ],
   "source": [
    "# Class ratio for train and test sets\n",
    "print('Proportion of offers completed in:')\n",
    "print('Train set:', y_train.mean())\n",
    "print('Validation set:', y_val.mean())\n",
    "print('Test set:', y_test.mean())"
   ]
  },
  {
   "cell_type": "markdown",
   "metadata": {},
   "source": [
    "### <a id=\"prep6\">6. Multicollinearity</a>"
   ]
  },
  {
   "cell_type": "code",
   "execution_count": 17,
   "metadata": {},
   "outputs": [
    {
     "data": {
      "image/png": "[encoded data removed]",
      "text/plain": [
       "<Figure size 1008x720 with 2 Axes>"
      ]
     },
     "metadata": {},
     "output_type": "display_data"
    }
   ],
   "source": [
    "plt.figure(figsize=(14, 10))\n",
    "sns.heatmap(X_train.corr(), annot=True, vmin=-1, vmax=1, fmt='.2f', cmap='coolwarm')\n",
    "plt.title('Feature Multicollinearity', fontsize='x-large')\n",
    "plt.xticks(rotation=45, ha='right');"
   ]
  },
  {
   "cell_type": "code",
   "execution_count": 18,
   "metadata": {},
   "outputs": [
    {
     "data": {
      "text/plain": [
       "array(['age', 'difficulty', 'frequency', 'income', 'male', 'monetary',\n",
       "       'reward', 'social', 'tenure', 'web'], dtype=object)"
      ]
     },
     "execution_count": 18,
     "metadata": {},
     "output_type": "execute_result"
    }
   ],
   "source": [
    "high_corr = ['duration', 'mobile', 'info_offer', 'disc_offer', 'bogo_offer']\n",
    "low_corr_feats = np.setdiff1d(X_train.columns, high_corr)\n",
    "low_corr_feats"
   ]
  },
  {
   "cell_type": "markdown",
   "metadata": {},
   "source": [
    "##### High multicollinearity was found with the 3 `offer type` binary features, 3 `channel` binary features, and `duration` feature. These features won't be dropped as they may be good predictors for tree-based classifiers, but they will be omitted from classification algorithms where there is an assumption of no multicollinearity."
   ]
  },
  {
   "cell_type": "markdown",
   "metadata": {},
   "source": [
    "### <a id=\"prep7\">7. Normalize values</a>"
   ]
  },
  {
   "cell_type": "code",
   "execution_count": 19,
   "metadata": {},
   "outputs": [
    {
     "data": {
      "text/html": [
       "<div>\n",
       "<style scoped>\n",
       "    .dataframe tbody tr th:only-of-type {\n",
       "        vertical-align: middle;\n",
       "    }\n",
       "\n",
       "    .dataframe tbody tr th {\n",
       "        vertical-align: top;\n",
       "    }\n",
       "\n",
       "    .dataframe thead th {\n",
       "        text-align: right;\n",
       "    }\n",
       "</style>\n",
       "<table border=\"1\" class=\"dataframe\">\n",
       "  <thead>\n",
       "    <tr style=\"text-align: right;\">\n",
       "      <th></th>\n",
       "      <th>reward</th>\n",
       "      <th>difficulty</th>\n",
       "      <th>duration</th>\n",
       "      <th>mobile</th>\n",
       "      <th>social</th>\n",
       "      <th>web</th>\n",
       "      <th>age</th>\n",
       "      <th>income</th>\n",
       "      <th>frequency</th>\n",
       "      <th>monetary</th>\n",
       "      <th>tenure</th>\n",
       "      <th>info_offer</th>\n",
       "      <th>disc_offer</th>\n",
       "      <th>bogo_offer</th>\n",
       "      <th>male</th>\n",
       "    </tr>\n",
       "  </thead>\n",
       "  <tbody>\n",
       "    <tr>\n",
       "      <th>0</th>\n",
       "      <td>-0.342294</td>\n",
       "      <td>-0.114874</td>\n",
       "      <td>0.225353</td>\n",
       "      <td>0.32117</td>\n",
       "      <td>0.787324</td>\n",
       "      <td>0.500935</td>\n",
       "      <td>0.315473</td>\n",
       "      <td>-1.285855</td>\n",
       "      <td>0.557083</td>\n",
       "      <td>-0.309021</td>\n",
       "      <td>0.122169</td>\n",
       "      <td>-0.500327</td>\n",
       "      <td>1.211932</td>\n",
       "      <td>-0.807565</td>\n",
       "      <td>0.87684</td>\n",
       "    </tr>\n",
       "    <tr>\n",
       "      <th>1</th>\n",
       "      <td>-0.637000</td>\n",
       "      <td>0.436317</td>\n",
       "      <td>1.582750</td>\n",
       "      <td>0.32117</td>\n",
       "      <td>0.787324</td>\n",
       "      <td>0.500935</td>\n",
       "      <td>0.488569</td>\n",
       "      <td>-0.357779</td>\n",
       "      <td>1.773999</td>\n",
       "      <td>1.147328</td>\n",
       "      <td>0.982399</td>\n",
       "      <td>-0.500327</td>\n",
       "      <td>1.211932</td>\n",
       "      <td>-0.807565</td>\n",
       "      <td>0.87684</td>\n",
       "    </tr>\n",
       "  </tbody>\n",
       "</table>\n",
       "</div>"
      ],
      "text/plain": [
       "     reward  difficulty  duration   mobile    social       web       age  \\\n",
       "0 -0.342294   -0.114874  0.225353  0.32117  0.787324  0.500935  0.315473   \n",
       "1 -0.637000    0.436317  1.582750  0.32117  0.787324  0.500935  0.488569   \n",
       "\n",
       "     income  frequency  monetary    tenure  info_offer  disc_offer  \\\n",
       "0 -1.285855   0.557083 -0.309021  0.122169   -0.500327    1.211932   \n",
       "1 -0.357779   1.773999  1.147328  0.982399   -0.500327    1.211932   \n",
       "\n",
       "   bogo_offer     male  \n",
       "0   -0.807565  0.87684  \n",
       "1   -0.807565  0.87684  "
      ]
     },
     "execution_count": 19,
     "metadata": {},
     "output_type": "execute_result"
    }
   ],
   "source": [
    "# Normalize train set\n",
    "scaler = StandardScaler()\n",
    "X_train_scaled = scaler.fit_transform(X_train)\n",
    "X_train_scaled = pd.DataFrame(X_train_scaled, columns=X_train.columns)\n",
    "X_train_scaled.head(2)"
   ]
  },
  {
   "cell_type": "code",
   "execution_count": 20,
   "metadata": {},
   "outputs": [
    {
     "data": {
      "text/html": [
       "<div>\n",
       "<style scoped>\n",
       "    .dataframe tbody tr th:only-of-type {\n",
       "        vertical-align: middle;\n",
       "    }\n",
       "\n",
       "    .dataframe tbody tr th {\n",
       "        vertical-align: top;\n",
       "    }\n",
       "\n",
       "    .dataframe thead th {\n",
       "        text-align: right;\n",
       "    }\n",
       "</style>\n",
       "<table border=\"1\" class=\"dataframe\">\n",
       "  <thead>\n",
       "    <tr style=\"text-align: right;\">\n",
       "      <th></th>\n",
       "      <th>reward</th>\n",
       "      <th>difficulty</th>\n",
       "      <th>duration</th>\n",
       "      <th>mobile</th>\n",
       "      <th>social</th>\n",
       "      <th>web</th>\n",
       "      <th>age</th>\n",
       "      <th>income</th>\n",
       "      <th>frequency</th>\n",
       "      <th>monetary</th>\n",
       "      <th>tenure</th>\n",
       "      <th>info_offer</th>\n",
       "      <th>disc_offer</th>\n",
       "      <th>bogo_offer</th>\n",
       "      <th>male</th>\n",
       "    </tr>\n",
       "  </thead>\n",
       "  <tbody>\n",
       "    <tr>\n",
       "      <th>0</th>\n",
       "      <td>0.247117</td>\n",
       "      <td>-0.482334</td>\n",
       "      <td>-0.679579</td>\n",
       "      <td>0.321170</td>\n",
       "      <td>0.787324</td>\n",
       "      <td>0.500935</td>\n",
       "      <td>1.527147</td>\n",
       "      <td>2.287238</td>\n",
       "      <td>-0.051376</td>\n",
       "      <td>0.551361</td>\n",
       "      <td>-0.523004</td>\n",
       "      <td>-0.500327</td>\n",
       "      <td>-0.825129</td>\n",
       "      <td>1.238291</td>\n",
       "      <td>0.87684</td>\n",
       "    </tr>\n",
       "    <tr>\n",
       "      <th>1</th>\n",
       "      <td>0.247117</td>\n",
       "      <td>2.273619</td>\n",
       "      <td>1.582750</td>\n",
       "      <td>-3.113619</td>\n",
       "      <td>-1.270125</td>\n",
       "      <td>0.500935</td>\n",
       "      <td>-0.492310</td>\n",
       "      <td>-0.357779</td>\n",
       "      <td>-1.673931</td>\n",
       "      <td>-0.932033</td>\n",
       "      <td>-0.451318</td>\n",
       "      <td>-0.500327</td>\n",
       "      <td>1.211932</td>\n",
       "      <td>-0.807565</td>\n",
       "      <td>0.87684</td>\n",
       "    </tr>\n",
       "  </tbody>\n",
       "</table>\n",
       "</div>"
      ],
      "text/plain": [
       "     reward  difficulty  duration    mobile    social       web       age  \\\n",
       "0  0.247117   -0.482334 -0.679579  0.321170  0.787324  0.500935  1.527147   \n",
       "1  0.247117    2.273619  1.582750 -3.113619 -1.270125  0.500935 -0.492310   \n",
       "\n",
       "     income  frequency  monetary    tenure  info_offer  disc_offer  \\\n",
       "0  2.287238  -0.051376  0.551361 -0.523004   -0.500327   -0.825129   \n",
       "1 -0.357779  -1.673931 -0.932033 -0.451318   -0.500327    1.211932   \n",
       "\n",
       "   bogo_offer     male  \n",
       "0    1.238291  0.87684  \n",
       "1   -0.807565  0.87684  "
      ]
     },
     "execution_count": 20,
     "metadata": {},
     "output_type": "execute_result"
    }
   ],
   "source": [
    "# Normalize validation set\n",
    "X_val_scaled = scaler.transform(X_val)\n",
    "X_val_scaled = pd.DataFrame(X_val_scaled, columns=X_val.columns)\n",
    "X_val_scaled.head(2)"
   ]
  },
  {
   "cell_type": "code",
   "execution_count": 21,
   "metadata": {},
   "outputs": [
    {
     "data": {
      "text/html": [
       "<div>\n",
       "<style scoped>\n",
       "    .dataframe tbody tr th:only-of-type {\n",
       "        vertical-align: middle;\n",
       "    }\n",
       "\n",
       "    .dataframe tbody tr th {\n",
       "        vertical-align: top;\n",
       "    }\n",
       "\n",
       "    .dataframe thead th {\n",
       "        text-align: right;\n",
       "    }\n",
       "</style>\n",
       "<table border=\"1\" class=\"dataframe\">\n",
       "  <thead>\n",
       "    <tr style=\"text-align: right;\">\n",
       "      <th></th>\n",
       "      <th>reward</th>\n",
       "      <th>difficulty</th>\n",
       "      <th>duration</th>\n",
       "      <th>mobile</th>\n",
       "      <th>social</th>\n",
       "      <th>web</th>\n",
       "      <th>age</th>\n",
       "      <th>income</th>\n",
       "      <th>frequency</th>\n",
       "      <th>monetary</th>\n",
       "      <th>tenure</th>\n",
       "      <th>info_offer</th>\n",
       "      <th>disc_offer</th>\n",
       "      <th>bogo_offer</th>\n",
       "      <th>male</th>\n",
       "    </tr>\n",
       "  </thead>\n",
       "  <tbody>\n",
       "    <tr>\n",
       "      <th>0</th>\n",
       "      <td>-0.637000</td>\n",
       "      <td>0.436317</td>\n",
       "      <td>0.225353</td>\n",
       "      <td>0.32117</td>\n",
       "      <td>-1.270125</td>\n",
       "      <td>0.500935</td>\n",
       "      <td>-1.357791</td>\n",
       "      <td>-1.425066</td>\n",
       "      <td>-0.862653</td>\n",
       "      <td>-0.874035</td>\n",
       "      <td>-1.168177</td>\n",
       "      <td>-0.500327</td>\n",
       "      <td>1.211932</td>\n",
       "      <td>-0.807565</td>\n",
       "      <td>0.87684</td>\n",
       "    </tr>\n",
       "    <tr>\n",
       "      <th>1</th>\n",
       "      <td>0.247117</td>\n",
       "      <td>-0.482334</td>\n",
       "      <td>-0.679579</td>\n",
       "      <td>0.32117</td>\n",
       "      <td>0.787324</td>\n",
       "      <td>0.500935</td>\n",
       "      <td>1.469448</td>\n",
       "      <td>0.384682</td>\n",
       "      <td>-1.065473</td>\n",
       "      <td>-0.477633</td>\n",
       "      <td>-0.738062</td>\n",
       "      <td>-0.500327</td>\n",
       "      <td>-0.825129</td>\n",
       "      <td>1.238291</td>\n",
       "      <td>0.87684</td>\n",
       "    </tr>\n",
       "  </tbody>\n",
       "</table>\n",
       "</div>"
      ],
      "text/plain": [
       "     reward  difficulty  duration   mobile    social       web       age  \\\n",
       "0 -0.637000    0.436317  0.225353  0.32117 -1.270125  0.500935 -1.357791   \n",
       "1  0.247117   -0.482334 -0.679579  0.32117  0.787324  0.500935  1.469448   \n",
       "\n",
       "     income  frequency  monetary    tenure  info_offer  disc_offer  \\\n",
       "0 -1.425066  -0.862653 -0.874035 -1.168177   -0.500327    1.211932   \n",
       "1  0.384682  -1.065473 -0.477633 -0.738062   -0.500327   -0.825129   \n",
       "\n",
       "   bogo_offer     male  \n",
       "0   -0.807565  0.87684  \n",
       "1    1.238291  0.87684  "
      ]
     },
     "execution_count": 21,
     "metadata": {},
     "output_type": "execute_result"
    }
   ],
   "source": [
    "# Normalize test set\n",
    "X_test_scaled = scaler.transform(X_test)\n",
    "X_test_scaled = pd.DataFrame(X_test_scaled, columns=X_test.columns)\n",
    "X_test_scaled.head(2)"
   ]
  },
  {
   "cell_type": "code",
   "execution_count": 22,
   "metadata": {},
   "outputs": [
    {
     "data": {
      "text/plain": [
       "18097"
      ]
     },
     "execution_count": 22,
     "metadata": {},
     "output_type": "execute_result"
    }
   ],
   "source": [
    "del X_vt, y_vt, high_corr, to_drop\n",
    "gc.collect()"
   ]
  },
  {
   "cell_type": "markdown",
   "metadata": {},
   "source": [
    "##### With the data preprocessed, we are left with 2 feature sets:\n",
    "1. Set 1 with 8 features (no features with high multicollinearity) - `age`, `difficulty`, `frequency`, `income`, `male`, `monetary`, `reward`, `tenure`\n",
    "2. Set 2 with 15 features - the features in set 1 plus `duration`, `mobile`, `social`, `web`, `info_offers`, `disc_offer`, `bogo_offer`"
   ]
  },
  {
   "cell_type": "markdown",
   "metadata": {},
   "source": [
    "## <a id=\"clfr\">Section III: Modeling</a>\n",
    "\n",
    "### <a id=\"clfr1\">1. Feature correlation with target</a>"
   ]
  },
  {
   "cell_type": "code",
   "execution_count": 23,
   "metadata": {},
   "outputs": [
    {
     "data": {
      "text/plain": [
       "frequency     0.288992\n",
       "monetary      0.283196\n",
       "social        0.221276\n",
       "mobile        0.159169\n",
       "tenure        0.155593\n",
       "income        0.115111\n",
       "age           0.057705\n",
       "disc_offer    0.039475\n",
       "info_offer   -0.003099\n",
       "web          -0.007438\n",
       "duration     -0.015443\n",
       "bogo_offer   -0.037109\n",
       "reward       -0.057826\n",
       "male         -0.090205\n",
       "difficulty   -0.098174\n",
       "Name: target, dtype: float64"
      ]
     },
     "execution_count": 23,
     "metadata": {},
     "output_type": "execute_result"
    }
   ],
   "source": [
    "# Correlation with target\n",
    "target_corr = X_train.assign(target = y_train).corr().iloc[-1, :-1].sort_values(ascending=False)\n",
    "target_corr"
   ]
  },
  {
   "cell_type": "code",
   "execution_count": 24,
   "metadata": {},
   "outputs": [
    {
     "data": {
      "image/png": "[encoded data removed]",
      "text/plain": [
       "<Figure size 864x432 with 1 Axes>"
      ]
     },
     "metadata": {},
     "output_type": "display_data"
    }
   ],
   "source": [
    "plt.figure(figsize=(12, 6))\n",
    "sns.barplot(x=target_corr.values, y=target_corr.index)\n",
    "plt.title('Correlation with Target Label', fontsize='x-large');"
   ]
  },
  {
   "cell_type": "markdown",
   "metadata": {},
   "source": [
    "##### If we were using a linear model, it looks like the spending habits of a customer would be the best predictor of whether or not they would complete an offer."
   ]
  },
  {
   "cell_type": "markdown",
   "metadata": {},
   "source": [
    "### <a id=\"clfr3\">3. Evaluation functions</a>"
   ]
  },
  {
   "cell_type": "code",
   "execution_count": 25,
   "metadata": {},
   "outputs": [],
   "source": [
    "def model_eval(train_pred, val_pred, test_pred=None,\n",
    "               train_true=y_train, val_true=y_val, test_true=y_test):\n",
    "    \n",
    "    '''\n",
    "    Get the accuracy and ROC-AUC scores of the train, validation, and test sets.\n",
    "    \n",
    "    Args:\n",
    "        (1) train_pred (array-like) - predictions on training set\n",
    "        (2) val_pred (array-like) - predictions on validation set\n",
    "        (3) test_pred (array-like) - predictions on test set\n",
    "        (4) train_true (array-like) - true labels from train set\n",
    "        (5) val_true (array-like) - true labels from validation set\n",
    "        (6) test_true (array-like) - true labels from test set\n",
    "        \n",
    "    Returns:\n",
    "        Accuracy and ROC-AUC scores of the train, validation, and test sets (Pandas dataframe)\n",
    "    '''\n",
    "    \n",
    "    metrics = dict()\n",
    "    \n",
    "    if train_pred is not None:\n",
    "        metrics['train'] = [accuracy_score(train_true, train_pred)]\n",
    "        metrics['train'].append(roc_auc_score(train_true, train_pred))\n",
    "        \n",
    "    if val_pred is not None:\n",
    "        metrics['validation'] = [accuracy_score(val_true, val_pred)]\n",
    "        metrics['validation'].append(roc_auc_score(val_true, val_pred))\n",
    "        \n",
    "    if test_pred is not None:\n",
    "        metrics['test'] = [accuracy_score(test_true, test_pred)]\n",
    "        metrics['test'].append(roc_auc_score(test_true, test_pred))\n",
    "        \n",
    "    return pd.DataFrame(metrics, index=['accuracy', 'ROC-AUC score']).T"
   ]
  },
  {
   "cell_type": "code",
   "execution_count": 26,
   "metadata": {},
   "outputs": [],
   "source": [
    "def plot_confusion(estimator, n_subplots, train_X, val_X, test_X=None,\n",
    "                   train_y=y_train, val_y=y_val, test_y=y_test, color='Blues'):\n",
    "    \n",
    "    '''\n",
    "    Plot a heatmap of the confusion matrix for the train, validation, and test sets.\n",
    "    \n",
    "    Args:\n",
    "        (1) estimator (Sklearn estimator) - fitted classifier\n",
    "        (2) n_subplots (int) - number of sets to plot for\n",
    "        (3) train_X (Pandas dataframe) - X from training set\n",
    "        (4) val_X (Pandas dataframe) - X from validation set\n",
    "        (5) test_X (Pandas dataframe) - X from test set\n",
    "        (6) train_y (Pandas dataframe) - y from training set\n",
    "        (7) val_y (Pandas dataframe) - y from validation set\n",
    "        (8) test_y (Pandas dataframe) - y from test set\n",
    "        \n",
    "    Returns: None.\n",
    "    '''\n",
    "    \n",
    "    fig, ax = plt.subplots(1, n_subplots, figsize=(15, 3))\n",
    "    i = 0\n",
    "    \n",
    "    if train_X is not None:\n",
    "        plot_confusion_matrix(estimator, train_X, train_y, cmap=color, ax=ax[i])\n",
    "        ax[i].set_title('Train Confusion Matrix')\n",
    "        ax[i].grid(False)\n",
    "        i += 1\n",
    "        \n",
    "    if val_X is not None:\n",
    "        plot_confusion_matrix(estimator, val_X, val_y, cmap=color, ax=ax[i])\n",
    "        ax[i].set_title('Validation Confusion Matrix')\n",
    "        ax[i].grid(False)\n",
    "        i += 1\n",
    "        \n",
    "    if test_X is not None:\n",
    "        plot_confusion_matrix(estimator, test_X, test_y, cmap=color, ax=ax[i])\n",
    "        ax[i].set_title('Test Confusion Matrix')\n",
    "        ax[i].grid(False)"
   ]
  },
  {
   "cell_type": "markdown",
   "metadata": {},
   "source": [
    "### <a id=\"clfr3\">3. Logistic regression</a>"
   ]
  },
  {
   "cell_type": "code",
   "execution_count": 27,
   "metadata": {},
   "outputs": [
    {
     "data": {
      "text/plain": [
       "((33410, 10), (11137, 10), (11137, 10))"
      ]
     },
     "execution_count": 27,
     "metadata": {},
     "output_type": "execute_result"
    }
   ],
   "source": [
    "X_train_scaled_sub = X_train_scaled[low_corr_feats]\n",
    "X_val_scaled_sub = X_val_scaled[low_corr_feats]\n",
    "X_test_scaled_sub = X_test_scaled[low_corr_feats]\n",
    "X_train_scaled_sub.shape, X_val_scaled_sub.shape, X_test_scaled_sub.shape"
   ]
  },
  {
   "cell_type": "code",
   "execution_count": 28,
   "metadata": {},
   "outputs": [
    {
     "name": "stdout",
     "output_type": "stream",
     "text": [
      "Fitting 8 folds for each of 60 candidates, totalling 480 fits\n"
     ]
    },
    {
     "name": "stderr",
     "output_type": "stream",
     "text": [
      "[Parallel(n_jobs=4)]: Using backend LokyBackend with 4 concurrent workers.\n",
      "[Parallel(n_jobs=4)]: Done  38 tasks      | elapsed:    1.4s\n",
      "[Parallel(n_jobs=4)]: Done 473 out of 480 | elapsed:    7.1s remaining:    0.1s\n",
      "[Parallel(n_jobs=4)]: Done 480 out of 480 | elapsed:    7.2s finished\n"
     ]
    },
    {
     "name": "stdout",
     "output_type": "stream",
     "text": [
      "0.7643837832691118\n",
      "CPU times: user 547 ms, sys: 438 ms, total: 984 ms\n",
      "Wall time: 7.36 s\n"
     ]
    },
    {
     "data": {
      "text/plain": [
       "{'C': 0.01,\n",
       " 'class_weight': {0: 1.0, 1: 1},\n",
       " 'penalty': 'l1',\n",
       " 'solver': 'liblinear'}"
      ]
     },
     "execution_count": 28,
     "metadata": {},
     "output_type": "execute_result"
    }
   ],
   "source": [
    "%%time\n",
    "\n",
    "# Grid Search\n",
    "lr = LogisticRegression(random_state=0)\n",
    "lr_params = {'class_weight': [{0: w, 1: 1} for w in np.arange(1, 1.5, 0.2)],\n",
    "             'C': np.logspace(-3, 1, 5),\n",
    "             'penalty': ['l1', 'l2'],\n",
    "             'solver': ['lbfgs', 'liblinear']}\n",
    "\n",
    "lr_search = GridSearchCV(lr, lr_params, scoring='roc_auc', cv=8, n_jobs=4, verbose=2)\n",
    "lr_search.fit(X_train_scaled_sub, y_train)\n",
    "print(lr_search.best_score_)\n",
    "lr_search.best_params_"
   ]
  },
  {
   "cell_type": "code",
   "execution_count": 29,
   "metadata": {},
   "outputs": [
    {
     "name": "stdout",
     "output_type": "stream",
     "text": [
      "              precision    recall  f1-score   support\n",
      "\n",
      "           0       0.69      0.72      0.70     16629\n",
      "           1       0.71      0.68      0.70     16781\n",
      "\n",
      "    accuracy                           0.70     33410\n",
      "   macro avg       0.70      0.70      0.70     33410\n",
      "weighted avg       0.70      0.70      0.70     33410\n",
      "\n",
      "              precision    recall  f1-score   support\n",
      "\n",
      "           0       0.70      0.72      0.71      5697\n",
      "           1       0.69      0.67      0.68      5440\n",
      "\n",
      "    accuracy                           0.70     11137\n",
      "   macro avg       0.70      0.70      0.70     11137\n",
      "weighted avg       0.70      0.70      0.70     11137\n",
      "\n"
     ]
    }
   ],
   "source": [
    "# Train model\n",
    "lr = lr_search.best_estimator_\n",
    "lr.fit(X_train_scaled_sub, y_train)\n",
    "\n",
    "# Make predictions\n",
    "lr_train_pred = lr.predict(X_train_scaled_sub)\n",
    "lr_val_pred = lr.predict(X_val_scaled_sub)\n",
    "\n",
    "# Evaluate predictions\n",
    "print(report(y_train, lr_train_pred))\n",
    "print(report(y_val, lr_val_pred))"
   ]
  },
  {
   "cell_type": "code",
   "execution_count": 30,
   "metadata": {},
   "outputs": [
    {
     "data": {
      "image/png": "[encoded data removed]",
      "text/plain": [
       "<Figure size 1080x216 with 4 Axes>"
      ]
     },
     "metadata": {},
     "output_type": "display_data"
    }
   ],
   "source": [
    "# Confusion matrix\n",
    "plot_confusion(lr, 2, X_train_scaled_sub, X_val_scaled_sub)"
   ]
  },
  {
   "cell_type": "code",
   "execution_count": 31,
   "metadata": {},
   "outputs": [
    {
     "data": {
      "text/plain": [
       "social        0.605476\n",
       "frequency     0.495041\n",
       "monetary      0.422251\n",
       "web           0.199772\n",
       "income        0.195939\n",
       "tenure        0.088046\n",
       "age           0.078242\n",
       "difficulty   -0.074737\n",
       "male         -0.094228\n",
       "reward       -0.256677\n",
       "dtype: float64"
      ]
     },
     "execution_count": 31,
     "metadata": {},
     "output_type": "execute_result"
    }
   ],
   "source": [
    "# Coefficients\n",
    "pd.Series(lr.coef_[0], index=X_train_scaled_sub.columns).sort_values(ascending=False)"
   ]
  },
  {
   "cell_type": "markdown",
   "metadata": {},
   "source": [
    "##### The logistic regression model achieved an prediction accuracy and f1-score of 0.70 for both the training and validation sets. Since the target classes were balanced beforehand, we can see that there isn't much of a disparity between the false negatives and false positives.\n",
    "\n",
    "##### It looks like the `social`, `frequency`, and `monetary` features have the most predictive power in this model. The posistive relationship between the customer's spending habits and their likelihood of completing an offer agrees with the analysis from the previous notebooks, but it's interesting to see that sending the offer through social media has an even greater importance here. Perhaps this is the main channel in which customers are responding to offers.\n",
    "\n",
    "##### Surprisingly, `reward` has a negative coefficient, which is counterintuitive because one would expect that reward has a positive relationship with offer completion. Of course, this doesn't imply that lowering rewards would increase offer completions. It could just be that informational offers (which have 0 `reward`) are pulling this coefficient in the negative direction."
   ]
  },
  {
   "cell_type": "markdown",
   "metadata": {},
   "source": [
    "### <a id=\"clfr4\">4. K-nearest Neighbors</a>"
   ]
  },
  {
   "cell_type": "code",
   "execution_count": 32,
   "metadata": {},
   "outputs": [
    {
     "name": "stdout",
     "output_type": "stream",
     "text": [
      "CPU times: user 1min 17s, sys: 219 ms, total: 1min 17s\n",
      "Wall time: 1min 17s\n"
     ]
    },
    {
     "data": {
      "text/plain": [
       "<matplotlib.legend.Legend at 0x7fd3fffb9670>"
      ]
     },
     "execution_count": 32,
     "metadata": {},
     "output_type": "execute_result"
    },
    {
     "data": {
      "image/png": "[encoded data removed]",
      "text/plain": [
       "<Figure size 432x288 with 1 Axes>"
      ]
     },
     "metadata": {},
     "output_type": "display_data"
    }
   ],
   "source": [
    "%%time\n",
    "\n",
    "# Find optimal range for K\n",
    "auc_train, auc_val = [], []\n",
    "for k in range(3, 33, 2):\n",
    "    \n",
    "    # Train model\n",
    "    knn_k = KNeighborsClassifier(n_neighbors=k)\n",
    "    knn_k.fit(X_train_scaled, y_train)\n",
    "    \n",
    "    # Make predictions\n",
    "    k_train_pred = knn_k.predict(X_train_scaled)\n",
    "    k_val_pred = knn_k.predict(X_val_scaled)\n",
    "    \n",
    "    # ROC-AUC scores\n",
    "    auc_train.append(roc_auc_score(y_train, k_train_pred))\n",
    "    auc_val.append(roc_auc_score(y_val, k_val_pred))\n",
    "\n",
    "# Plot scores\n",
    "sns.lineplot(x=range(3, 33, 2), y=auc_train)\n",
    "sns.lineplot(x=range(3, 33, 2), y=auc_val)\n",
    "plt.title('ROC-AUC Scores with Changing K', fontsize='x-large')\n",
    "plt.ylabel('ROC-AUC score')\n",
    "plt.xlabel('K')\n",
    "plt.legend(['Train', 'Validation']);"
   ]
  },
  {
   "cell_type": "code",
   "execution_count": 33,
   "metadata": {},
   "outputs": [
    {
     "name": "stdout",
     "output_type": "stream",
     "text": [
      "Fitting 4 folds for each of 162 candidates, totalling 648 fits\n"
     ]
    },
    {
     "name": "stderr",
     "output_type": "stream",
     "text": [
      "[Parallel(n_jobs=4)]: Using backend LokyBackend with 4 concurrent workers.\n",
      "[Parallel(n_jobs=4)]: Done  33 tasks      | elapsed:   11.5s\n",
      "[Parallel(n_jobs=4)]: Done 154 tasks      | elapsed:  1.1min\n",
      "[Parallel(n_jobs=4)]: Done 357 tasks      | elapsed:  7.6min\n",
      "[Parallel(n_jobs=4)]: Done 640 tasks      | elapsed: 13.2min\n",
      "[Parallel(n_jobs=4)]: Done 648 out of 648 | elapsed: 13.4min finished\n"
     ]
    },
    {
     "name": "stdout",
     "output_type": "stream",
     "text": [
      "0.8049531179112139\n",
      "CPU times: user 859 ms, sys: 422 ms, total: 1.28 s\n",
      "Wall time: 13min 24s\n"
     ]
    },
    {
     "data": {
      "text/plain": [
       "{'algorithm': 'ball_tree',\n",
       " 'leaf_size': 5,\n",
       " 'n_neighbors': 30,\n",
       " 'p': 1,\n",
       " 'weights': 'uniform'}"
      ]
     },
     "execution_count": 33,
     "metadata": {},
     "output_type": "execute_result"
    }
   ],
   "source": [
    "%%time\n",
    "\n",
    "# Grid search\n",
    "knn = KNeighborsClassifier()\n",
    "knn_params = {'n_neighbors': [5, 10, 30],\n",
    "              'leaf_size': [5, 10, 30],\n",
    "              'p': [1, 2, 3],\n",
    "              'algorithm':['auto', 'ball_tree', 'kd_tree'],\n",
    "              'weights': ['uniform', 'distance']}\n",
    "\n",
    "knn_search = GridSearchCV(knn, knn_params, scoring='roc_auc', cv=4, n_jobs=4, verbose=2)\n",
    "knn_search.fit(X_train_scaled, y_train)\n",
    "print(knn_search.best_score_)\n",
    "knn_search.best_params_"
   ]
  },
  {
   "cell_type": "code",
   "execution_count": 35,
   "metadata": {},
   "outputs": [
    {
     "name": "stdout",
     "output_type": "stream",
     "text": [
      "              precision    recall  f1-score   support\n",
      "\n",
      "           0       0.75      0.75      0.75     16629\n",
      "           1       0.75      0.75      0.75     16781\n",
      "\n",
      "    accuracy                           0.75     33410\n",
      "   macro avg       0.75      0.75      0.75     33410\n",
      "weighted avg       0.75      0.75      0.75     33410\n",
      "\n"
     ]
    }
   ],
   "source": [
    "# Train model\n",
    "knn = knn_search.best_estimator_\n",
    "knn.fit(X_train_scaled, y_train)\n",
    "\n",
    "# Make predictions\n",
    "knn_train_pred = knn.predict(X_train_scaled)\n",
    "knn_val_pred = knn.predict(X_val_scaled)\n",
    "\n",
    "# Evaluate predictions\n",
    "print(report(y_train, knn_train_pred))"
   ]
  },
  {
   "cell_type": "markdown",
   "metadata": {},
   "source": [
    "##### The K-nearest neighbors algorithm did a bit better than logistic regression in making predictions on the validation set, with a f1-score of 0.73."
   ]
  },
  {
   "cell_type": "markdown",
   "metadata": {},
   "source": [
    "### <a id=\"clfr5\">5. Support Vector Machines</a>"
   ]
  },
  {
   "cell_type": "code",
   "execution_count": 36,
   "metadata": {},
   "outputs": [
    {
     "name": "stdout",
     "output_type": "stream",
     "text": [
      "Fitting 3 folds for each of 25 candidates, totalling 75 fits\n"
     ]
    },
    {
     "name": "stderr",
     "output_type": "stream",
     "text": [
      "[Parallel(n_jobs=4)]: Using backend LokyBackend with 4 concurrent workers.\n",
      "[Parallel(n_jobs=4)]: Done  33 tasks      | elapsed:  3.2min\n",
      "[Parallel(n_jobs=4)]: Done  75 out of  75 | elapsed: 20.5min finished\n"
     ]
    },
    {
     "name": "stdout",
     "output_type": "stream",
     "text": [
      "0.8080061393878167\n",
      "CPU times: user 32.2 s, sys: 344 ms, total: 32.5 s\n",
      "Wall time: 21min 1s\n"
     ]
    },
    {
     "data": {
      "text/plain": [
       "{'C': 100.0, 'gamma': 0.01}"
      ]
     },
     "execution_count": 36,
     "metadata": {},
     "output_type": "execute_result"
    }
   ],
   "source": [
    "%%time\n",
    "\n",
    "# Grid search\n",
    "svc = SVC()\n",
    "svc_params = {'C': np.logspace(-1, 3, 5),\n",
    "              'gamma': np.logspace(-3, 1, 5)}\n",
    "\n",
    "svc_search = GridSearchCV(svc, svc_params, scoring='roc_auc', cv=3, n_jobs=4, verbose=2)\n",
    "svc_search.fit(X_train_scaled, y_train)\n",
    "print(svc_search.best_score_)\n",
    "svc_search.best_params_"
   ]
  },
  {
   "cell_type": "code",
   "execution_count": 37,
   "metadata": {},
   "outputs": [
    {
     "name": "stdout",
     "output_type": "stream",
     "text": [
      "              precision    recall  f1-score   support\n",
      "\n",
      "           0       0.76      0.70      0.73     16629\n",
      "           1       0.72      0.78      0.75     16781\n",
      "\n",
      "    accuracy                           0.74     33410\n",
      "   macro avg       0.74      0.74      0.74     33410\n",
      "weighted avg       0.74      0.74      0.74     33410\n",
      "\n",
      "              precision    recall  f1-score   support\n",
      "\n",
      "           0       0.77      0.69      0.73      5697\n",
      "           1       0.71      0.78      0.74      5440\n",
      "\n",
      "    accuracy                           0.74     11137\n",
      "   macro avg       0.74      0.74      0.74     11137\n",
      "weighted avg       0.74      0.74      0.74     11137\n",
      "\n"
     ]
    }
   ],
   "source": [
    "# Train model\n",
    "svc = svc_search.best_estimator_\n",
    "svc.fit(X_train_scaled, y_train)\n",
    "\n",
    "# Make predictions\n",
    "svc_train_pred = svc.predict(X_train_scaled)\n",
    "svc_val_pred = svc.predict(X_val_scaled)\n",
    "\n",
    "# Evaluate predictions\n",
    "print(report(y_train, svc_train_pred))\n",
    "print(report(y_val, svc_val_pred))"
   ]
  },
  {
   "cell_type": "code",
   "execution_count": 38,
   "metadata": {},
   "outputs": [
    {
     "data": {
      "image/png": "[encoded data removed]",
      "text/plain": [
       "<Figure size 1080x216 with 4 Axes>"
      ]
     },
     "metadata": {},
     "output_type": "display_data"
    }
   ],
   "source": [
    "### Confusion matrix\n",
    "plot_confusion(svc, 2, X_train_scaled, X_val_scaled)"
   ]
  },
  {
   "cell_type": "markdown",
   "metadata": {},
   "source": [
    "##### Compared to KNN, SVM did slightly better overall with an f1-score of 0.74, but did have a prediction imbalance. Predictions of the positive class outnumbered the negative class at a ratio of 3 to 2. However, a bias towards the positive class is tolerable in this case. This is because we would prefer to send offers to customers who wouldn't respond to them than to fail to send to customers who would respond to them."
   ]
  },
  {
   "cell_type": "markdown",
   "metadata": {},
   "source": [
    "### <a id=\"clfr6\">6. Decision tree</a>"
   ]
  },
  {
   "cell_type": "code",
   "execution_count": 39,
   "metadata": {},
   "outputs": [
    {
     "name": "stdout",
     "output_type": "stream",
     "text": [
      "Fitting 4 folds for each of 512 candidates, totalling 2048 fits\n"
     ]
    },
    {
     "name": "stderr",
     "output_type": "stream",
     "text": [
      "[Parallel(n_jobs=4)]: Using backend LokyBackend with 4 concurrent workers.\n",
      "[Parallel(n_jobs=4)]: Done  56 tasks      | elapsed:    0.7s\n",
      "[Parallel(n_jobs=4)]: Done 1012 tasks      | elapsed:    9.7s\n",
      "[Parallel(n_jobs=4)]: Done 2048 out of 2048 | elapsed:   20.7s finished\n"
     ]
    },
    {
     "name": "stdout",
     "output_type": "stream",
     "text": [
      "0.8144504441079579\n",
      "CPU times: user 1 s, sys: 250 ms, total: 1.25 s\n",
      "Wall time: 20.8 s\n"
     ]
    },
    {
     "data": {
      "text/plain": [
       "{'max_depth': 10,\n",
       " 'max_features': 0.75,\n",
       " 'min_samples_leaf': 60,\n",
       " 'min_samples_split': 2,\n",
       " 'splitter': 'best'}"
      ]
     },
     "execution_count": 39,
     "metadata": {},
     "output_type": "execute_result"
    }
   ],
   "source": [
    "%%time\n",
    "\n",
    "# Grid search\n",
    "dt = DecisionTreeClassifier(random_state=0)\n",
    "dt_params = {'splitter': ['best', 'random'],\n",
    "             'max_features': [0.25, 0.5, 0.75, None],\n",
    "             'max_depth': [8, 10, 12, None],\n",
    "             'min_samples_split': [2, 10, 20, 30],\n",
    "             'min_samples_leaf': [1, 20, 40, 60]}\n",
    "\n",
    "dt_search = GridSearchCV(dt, dt_params, scoring='roc_auc', cv=4, n_jobs=4, verbose=2)\n",
    "dt_search.fit(X_train_scaled, y_train)\n",
    "print(dt_search.best_score_)\n",
    "dt_search.best_params_"
   ]
  },
  {
   "cell_type": "code",
   "execution_count": 40,
   "metadata": {},
   "outputs": [
    {
     "name": "stdout",
     "output_type": "stream",
     "text": [
      "              precision    recall  f1-score   support\n",
      "\n",
      "           0       0.77      0.72      0.74     16629\n",
      "           1       0.74      0.79      0.76     16781\n",
      "\n",
      "    accuracy                           0.75     33410\n",
      "   macro avg       0.76      0.75      0.75     33410\n",
      "weighted avg       0.76      0.75      0.75     33410\n",
      "\n",
      "              precision    recall  f1-score   support\n",
      "\n",
      "           0       0.76      0.70      0.73      5697\n",
      "           1       0.71      0.77      0.74      5440\n",
      "\n",
      "    accuracy                           0.73     11137\n",
      "   macro avg       0.73      0.73      0.73     11137\n",
      "weighted avg       0.73      0.73      0.73     11137\n",
      "\n"
     ]
    }
   ],
   "source": [
    "# Train model\n",
    "dt = dt_search.best_estimator_\n",
    "dt.fit(X_train_scaled, y_train)\n",
    "\n",
    "# Make predictions\n",
    "dt_train_pred = dt.predict(X_train_scaled)\n",
    "dt_val_pred = dt.predict(X_val_scaled)\n",
    "\n",
    "# Evaluate predictions\n",
    "print(report(y_train, dt_train_pred))\n",
    "print(report(y_val, dt_val_pred))"
   ]
  },
  {
   "cell_type": "code",
   "execution_count": 41,
   "metadata": {},
   "outputs": [
    {
     "data": {
      "image/png": "[encoded data removed]",
      "text/plain": [
       "<Figure size 1080x216 with 4 Axes>"
      ]
     },
     "metadata": {},
     "output_type": "display_data"
    }
   ],
   "source": [
    "# Confusion matrix\n",
    "plot_confusion(dt, 2, X_train_scaled, X_val_scaled)"
   ]
  },
  {
   "cell_type": "code",
   "execution_count": 42,
   "metadata": {},
   "outputs": [
    {
     "data": {
      "text/plain": [
       "monetary      0.585432\n",
       "social        0.135170\n",
       "frequency     0.060585\n",
       "reward        0.043805\n",
       "income        0.041909\n",
       "disc_offer    0.032954\n",
       "tenure        0.023322\n",
       "age           0.018662\n",
       "duration      0.016202\n",
       "difficulty    0.015639\n",
       "web           0.013906\n",
       "mobile        0.003623\n",
       "info_offer    0.003568\n",
       "male          0.002779\n",
       "bogo_offer    0.002445\n",
       "dtype: float64"
      ]
     },
     "execution_count": 42,
     "metadata": {},
     "output_type": "execute_result"
    }
   ],
   "source": [
    "# Feature importances\n",
    "pd.Series(dt.feature_importances_, index=X_train_scaled.columns).sort_values(ascending=False)"
   ]
  },
  {
   "cell_type": "markdown",
   "metadata": {},
   "source": [
    "##### Just as with logistic regression, `monetary`, `social`, and `frequency` are the top 3 most important features, although not in the same order. So the decision tree algorithm agrees that the most important predictors are the user's spending habits and whether the offer was sent via social media. \n",
    "\n",
    "##### Decision tree made predictions with as slightly worse accuracy and similar imbalance as SVM. We will try to improve the predictions with ensembling."
   ]
  },
  {
   "cell_type": "markdown",
   "metadata": {},
   "source": [
    "### <a id=\"clfr7\">7. Random forest</a>"
   ]
  },
  {
   "cell_type": "code",
   "execution_count": 43,
   "metadata": {},
   "outputs": [
    {
     "name": "stdout",
     "output_type": "stream",
     "text": [
      "Fitting 4 folds for each of 1024 candidates, totalling 4096 fits\n"
     ]
    },
    {
     "name": "stderr",
     "output_type": "stream",
     "text": [
      "[Parallel(n_jobs=4)]: Using backend LokyBackend with 4 concurrent workers.\n",
      "[Parallel(n_jobs=4)]: Done  33 tasks      | elapsed:    7.7s\n",
      "[Parallel(n_jobs=4)]: Done 154 tasks      | elapsed:   39.2s\n",
      "[Parallel(n_jobs=4)]: Done 357 tasks      | elapsed:  1.8min\n",
      "[Parallel(n_jobs=4)]: Done 640 tasks      | elapsed:  4.3min\n",
      "[Parallel(n_jobs=4)]: Done 1005 tasks      | elapsed:  9.3min\n",
      "[Parallel(n_jobs=4)]: Done 1450 tasks      | elapsed: 12.2min\n",
      "[Parallel(n_jobs=4)]: Done 1977 tasks      | elapsed: 18.9min\n",
      "[Parallel(n_jobs=4)]: Done 2584 tasks      | elapsed: 24.1min\n",
      "[Parallel(n_jobs=4)]: Done 3273 tasks      | elapsed: 32.4min\n",
      "[Parallel(n_jobs=4)]: Done 4042 tasks      | elapsed: 41.5min\n",
      "[Parallel(n_jobs=4)]: Done 4096 out of 4096 | elapsed: 42.5min finished\n"
     ]
    },
    {
     "name": "stdout",
     "output_type": "stream",
     "text": [
      "0.8248171796320872\n",
      "CPU times: user 9.95 s, sys: 2.09 s, total: 12 s\n",
      "Wall time: 42min 35s\n"
     ]
    },
    {
     "data": {
      "text/plain": [
       "{'max_depth': 10,\n",
       " 'max_features': 0.75,\n",
       " 'max_samples': 0.6,\n",
       " 'min_samples_leaf': 20,\n",
       " 'min_samples_split': 2}"
      ]
     },
     "execution_count": 43,
     "metadata": {},
     "output_type": "execute_result"
    }
   ],
   "source": [
    "%%time\n",
    "\n",
    "# Grid search\n",
    "rf = RandomForestClassifier(random_state=0)\n",
    "rf_params = {'max_samples': [0.4, 0.6, 0.8, None],\n",
    "             'max_features': [0.25, 0.5, 0.75, None],\n",
    "             'max_depth': [10, 15, 20, None],\n",
    "             'min_samples_split': [2, 10, 20, 30],\n",
    "             'min_samples_leaf': [1, 20, 40, 60]}\n",
    "\n",
    "rf_search = GridSearchCV(rf, rf_params, scoring='roc_auc', cv=4, n_jobs=4, verbose=2)\n",
    "rf_search.fit(X_train_scaled, y_train)\n",
    "print(rf_search.best_score_)\n",
    "rf_search.best_params_"
   ]
  },
  {
   "cell_type": "code",
   "execution_count": 33,
   "metadata": {},
   "outputs": [
    {
     "name": "stdout",
     "output_type": "stream",
     "text": [
      "              precision    recall  f1-score   support\n",
      "\n",
      "           0       0.79      0.72      0.76     16629\n",
      "           1       0.75      0.81      0.78     16781\n",
      "\n",
      "    accuracy                           0.77     33410\n",
      "   macro avg       0.77      0.77      0.77     33410\n",
      "weighted avg       0.77      0.77      0.77     33410\n",
      "\n",
      "              precision    recall  f1-score   support\n",
      "\n",
      "           0       0.78      0.71      0.74      5697\n",
      "           1       0.72      0.79      0.75      5440\n",
      "\n",
      "    accuracy                           0.75     11137\n",
      "   macro avg       0.75      0.75      0.74     11137\n",
      "weighted avg       0.75      0.75      0.74     11137\n",
      "\n"
     ]
    }
   ],
   "source": [
    "# Train model\n",
    "rf = RandomForestClassifier(n_estimators=5000,\n",
    "                            max_samples=0.6,\n",
    "                            max_features=0.75,\n",
    "                            max_depth=10,\n",
    "                            min_samples_split=2,\n",
    "                            min_samples_leaf=20,\n",
    "                            random_state=0)\n",
    "rf.fit(X_train_scaled, y_train)\n",
    "\n",
    "# Make predictions\n",
    "rf_train_pred = rf.predict(X_train_scaled)\n",
    "rf_val_pred = rf.predict(X_val_scaled)\n",
    "\n",
    "# Evaluate predictions\n",
    "print(report(y_train, rf_train_pred))\n",
    "print(report(y_val, rf_val_pred))"
   ]
  },
  {
   "cell_type": "code",
   "execution_count": 34,
   "metadata": {},
   "outputs": [
    {
     "data": {
      "text/plain": [
       "monetary      0.489572\n",
       "frequency     0.124859\n",
       "social        0.113312\n",
       "income        0.057549\n",
       "reward        0.045107\n",
       "tenure        0.039640\n",
       "age           0.038561\n",
       "disc_offer    0.024917\n",
       "difficulty    0.024594\n",
       "duration      0.015017\n",
       "mobile        0.008565\n",
       "web           0.006612\n",
       "bogo_offer    0.005176\n",
       "male          0.003955\n",
       "info_offer    0.002564\n",
       "dtype: float64"
      ]
     },
     "execution_count": 34,
     "metadata": {},
     "output_type": "execute_result"
    }
   ],
   "source": [
    "# Feature importances\n",
    "pd.Series(rf.feature_importances_, index=X_train_scaled.columns).sort_values(ascending=False)"
   ]
  },
  {
   "cell_type": "markdown",
   "metadata": {},
   "source": [
    "##### Unfortunately, random forest wasn't able to provide much of an improvement in the predictions. Perhaps gradient boosting will have better luck."
   ]
  },
  {
   "cell_type": "markdown",
   "metadata": {},
   "source": [
    "### <a id=\"clfr8\">8. LightGBM</a>"
   ]
  },
  {
   "cell_type": "code",
   "execution_count": 46,
   "metadata": {},
   "outputs": [],
   "source": [
    "def lgb_objective(trial):\n",
    "    \n",
    "    '''\n",
    "    Objective function for the hyperparameter optimization of LightGBM using Optuna.\n",
    "    \n",
    "    Args:\n",
    "        trial (Optuna trial) - optimization trial\n",
    "        \n",
    "    Returns:\n",
    "        ROC-AUC score (float).\n",
    "    '''\n",
    "    \n",
    "    # Save study\n",
    "    joblib.dump(lgb_study, '../data/out3/lgb_study.pkl')\n",
    "    \n",
    "    # LGB dataset objects\n",
    "    dtrain = lgb.Dataset(X_train_scaled, label=y_train, params={'verbose': -1})\n",
    "    dval = lgb.Dataset(X_val_scaled, label=y_val, params={'verbose': -1})\n",
    "    \n",
    "    # Parameter grid\n",
    "    params = {\n",
    "        'num_iterations': trial.suggest_int('num_iterations', 1_000, 20_000),\n",
    "        'learning_rate': trial.suggest_loguniform('learning_rate', 1e-4, 1e-1),\n",
    "        'lambda_l1': trial.suggest_loguniform('lambda_l1', 1e-5, 1e2),\n",
    "        'lambda_l2': trial.suggest_loguniform('lambda_l2', 1e-5, 1e2),\n",
    "        'max_depth': trial.suggest_int('max_depth', 2, 40),\n",
    "        'num_leaves': trial.suggest_int('num_leaves', 2, 200),\n",
    "        'min_data_in_leaf': trial.suggest_int('min_data_in_leaf', 2, 400),\n",
    "        'scale_pos_weight': trial.suggest_uniform('scale_pos_weight', 0.6, 1.4),\n",
    "        'bagging_fraction': trial.suggest_uniform('bagging_fraction', 0.5, 1.0),\n",
    "        'feature_fraction': trial.suggest_uniform('feature_fraction', 0.5, 1.0),\n",
    "        'early_stopping_rounds': 40,\n",
    "        'objective': 'binary',\n",
    "        'seed': 0,\n",
    "        'verbose': -1,\n",
    "        'num_threads': -1\n",
    "    }\n",
    "    \n",
    "    # Train model\n",
    "    lgbm = lgb.train(params, dtrain, verbose_eval=False,\n",
    "                     valid_sets=[dtrain, dval],\n",
    "                     valid_names=['train', 'validation'])\n",
    "    \n",
    "    # Make predictions\n",
    "    y_pred = lgbm.predict(X_val_scaled)\n",
    "    y_pred = y_pred.round().astype(int)\n",
    "    return roc_auc_score(y_val, y_pred)"
   ]
  },
  {
   "cell_type": "code",
   "execution_count": 47,
   "metadata": {},
   "outputs": [],
   "source": [
    "# %%time\n",
    "\n",
    "# # Enable logging\n",
    "# optuna.logging.enable_default_handler()\n",
    "\n",
    "# # Run study\n",
    "# lgb_study = optuna.create_study(direction='maximize')\n",
    "# lgb_study.optimize(lgb_objective, n_trials=500)\n",
    "\n",
    "# print('Finished trials:', len(lgb_study.trials))\n",
    "# print('Best trial:', lgb_study.best_trial.value)\n",
    "# lgb_study.best_trial.params"
   ]
  },
  {
   "cell_type": "code",
   "execution_count": 48,
   "metadata": {},
   "outputs": [
    {
     "name": "stdout",
     "output_type": "stream",
     "text": [
      "Finished trials: 500\n",
      "Best trial: 0.747961856214313\n"
     ]
    },
    {
     "data": {
      "text/plain": [
       "{'num_iterations': 4361,\n",
       " 'learning_rate': 0.048336152780921626,\n",
       " 'lambda_l1': 0.033937751997972394,\n",
       " 'lambda_l2': 0.019309248988946422,\n",
       " 'max_depth': 6,\n",
       " 'num_leaves': 81,\n",
       " 'min_data_in_leaf': 301,\n",
       " 'scale_pos_weight': 0.9238722372110234,\n",
       " 'bagging_fraction': 0.9106558812477173,\n",
       " 'feature_fraction': 0.6637513756371946}"
      ]
     },
     "execution_count": 48,
     "metadata": {},
     "output_type": "execute_result"
    }
   ],
   "source": [
    "# Load study\n",
    "lgb_study = joblib.load('../data/out3/lgb_study.pkl')\n",
    "print('Finished trials:', len(lgb_study.trials))\n",
    "print('Best trial:', lgb_study.best_trial.value)\n",
    "lgb_study.best_trial.params"
   ]
  },
  {
   "cell_type": "code",
   "execution_count": 49,
   "metadata": {},
   "outputs": [
    {
     "name": "stderr",
     "output_type": "stream",
     "text": [
      "/home/tri/miniconda3/envs/minds/lib/python3.8/site-packages/lightgbm/engine.py:151: UserWarning: Found `num_iterations` in params. Will use it instead of argument\n",
      "  warnings.warn(\"Found `{}` in params. Will use it instead of argument\".format(alias))\n"
     ]
    },
    {
     "name": "stdout",
     "output_type": "stream",
     "text": [
      "              precision    recall  f1-score   support\n",
      "\n",
      "           0       0.83      0.80      0.81     16629\n",
      "           1       0.81      0.83      0.82     16781\n",
      "\n",
      "    accuracy                           0.82     33410\n",
      "   macro avg       0.82      0.82      0.82     33410\n",
      "weighted avg       0.82      0.82      0.82     33410\n",
      "\n",
      "              precision    recall  f1-score   support\n",
      "\n",
      "           0       0.74      0.72      0.73      5697\n",
      "           1       0.72      0.73      0.73      5440\n",
      "\n",
      "    accuracy                           0.73     11137\n",
      "   macro avg       0.73      0.73      0.73     11137\n",
      "weighted avg       0.73      0.73      0.73     11137\n",
      "\n"
     ]
    }
   ],
   "source": [
    "# Best parameters\n",
    "lgb_params = lgb_study.best_trial.params\n",
    "lgb_params['objective'] = 'binary'\n",
    "lgb_params['seed'] = 0\n",
    "lgb_params['verbose'] = -1\n",
    "lgb_params['num_threads'] = -1\n",
    "\n",
    "# LGB dataset objects\n",
    "dtrain = lgb.Dataset(X_train_scaled, label=y_train, params={'verbose': -1})\n",
    "dval = lgb.Dataset(X_val_scaled, label=y_val, params={'verbose': -1})\n",
    "\n",
    "# Base model\n",
    "lgbm = lgb.train(lgb_params, dtrain, verbose_eval=False)\n",
    "\n",
    "# Make predictions\n",
    "lgbm_train_pred = lgbm.predict(X_train_scaled)\n",
    "lgbm_val_pred = lgbm.predict(X_val_scaled)\n",
    "\n",
    "# Convert predictions to binary\n",
    "lgbm_train_pred = lgbm_train_pred.round().astype(int)\n",
    "lgbm_val_pred = lgbm_val_pred.round().astype(int)\n",
    "\n",
    "# Evaluate predictions\n",
    "print(report(y_train, lgbm_train_pred))\n",
    "print(report(y_val, lgbm_val_pred))"
   ]
  },
  {
   "cell_type": "code",
   "execution_count": 50,
   "metadata": {},
   "outputs": [
    {
     "data": {
      "text/plain": [
       "monetary      17864\n",
       "income        14800\n",
       "age           14350\n",
       "tenure        12370\n",
       "frequency      7642\n",
       "reward         3067\n",
       "difficulty     2585\n",
       "duration       2421\n",
       "male           1436\n",
       "social         1185\n",
       "disc_offer      693\n",
       "bogo_offer      599\n",
       "web             396\n",
       "mobile           94\n",
       "info_offer       22\n",
       "dtype: int32"
      ]
     },
     "execution_count": 50,
     "metadata": {},
     "output_type": "execute_result"
    }
   ],
   "source": [
    "pd.Series(lgbm.feature_importance(), index=X_train_scaled.columns).sort_values(ascending=False)"
   ]
  },
  {
   "cell_type": "markdown",
   "metadata": {},
   "source": [
    "##### Again, no such luck unfortunately. Surprisingly, LightGBM did worse than random forest despite the optimization in tree building AND optimization in parameter tuning.\n",
    "\n",
    "##### But interestingly, the top features are different here: `monetary`, `income`, `age`, and `tenure`. But all of the classifiers agree that `monetary` value is among the best predictors.\n",
    "\n",
    "##### Up till now, SVM and random forest have done the best, both with an F1-score of 0.74 on the validation set. Random forest did slightly better, but it does take a lot more time and resource to run, so that's the tradeoff. We will compare both on the final test set."
   ]
  },
  {
   "cell_type": "markdown",
   "metadata": {},
   "source": [
    "### <a id=\"clfr9\">9. Final classifier</a>"
   ]
  },
  {
   "cell_type": "code",
   "execution_count": 51,
   "metadata": {},
   "outputs": [
    {
     "name": "stdout",
     "output_type": "stream",
     "text": [
      "              precision    recall  f1-score   support\n",
      "\n",
      "           0       0.77      0.69      0.73      5697\n",
      "           1       0.71      0.78      0.74      5440\n",
      "\n",
      "    accuracy                           0.74     11137\n",
      "   macro avg       0.74      0.74      0.74     11137\n",
      "weighted avg       0.74      0.74      0.74     11137\n",
      "\n",
      "              precision    recall  f1-score   support\n",
      "\n",
      "           0       0.76      0.68      0.72      5516\n",
      "           1       0.72      0.79      0.75      5621\n",
      "\n",
      "    accuracy                           0.74     11137\n",
      "   macro avg       0.74      0.74      0.73     11137\n",
      "weighted avg       0.74      0.74      0.74     11137\n",
      "\n"
     ]
    }
   ],
   "source": [
    "# SVM predictions on test set\n",
    "svc_test_pred = svc.predict(X_test_scaled)\n",
    "\n",
    "# Evaluate predictions\n",
    "print(report(y_val, svc_val_pred))\n",
    "print(report(y_test, svc_test_pred))"
   ]
  },
  {
   "cell_type": "code",
   "execution_count": 52,
   "metadata": {},
   "outputs": [
    {
     "data": {
      "image/png": "[encoded data removed]",
      "text/plain": [
       "<Figure size 1080x216 with 6 Axes>"
      ]
     },
     "metadata": {},
     "output_type": "display_data"
    }
   ],
   "source": [
    "### Confusion matrix\n",
    "plot_confusion(svc, 3, X_train_scaled, X_val_scaled, X_test_scaled)"
   ]
  },
  {
   "cell_type": "code",
   "execution_count": 35,
   "metadata": {},
   "outputs": [
    {
     "name": "stdout",
     "output_type": "stream",
     "text": [
      "              precision    recall  f1-score   support\n",
      "\n",
      "           0       0.78      0.71      0.74      5697\n",
      "           1       0.72      0.79      0.75      5440\n",
      "\n",
      "    accuracy                           0.75     11137\n",
      "   macro avg       0.75      0.75      0.74     11137\n",
      "weighted avg       0.75      0.75      0.74     11137\n",
      "\n",
      "              precision    recall  f1-score   support\n",
      "\n",
      "           0       0.77      0.70      0.73      5516\n",
      "           1       0.73      0.79      0.76      5621\n",
      "\n",
      "    accuracy                           0.75     11137\n",
      "   macro avg       0.75      0.75      0.75     11137\n",
      "weighted avg       0.75      0.75      0.75     11137\n",
      "\n"
     ]
    }
   ],
   "source": [
    "# Random forest predictions on test set\n",
    "rf_test_pred = rf.predict(X_test_scaled)\n",
    "\n",
    "# Evaluate predictions\n",
    "print(report(y_val, rf_val_pred))\n",
    "print(report(y_test, rf_test_pred))"
   ]
  },
  {
   "cell_type": "code",
   "execution_count": 36,
   "metadata": {},
   "outputs": [
    {
     "data": {
      "image/png": "[encoded data removed]",
      "text/plain": [
       "<Figure size 1080x216 with 6 Axes>"
      ]
     },
     "metadata": {},
     "output_type": "display_data"
    }
   ],
   "source": [
    "### Confusion matrix\n",
    "plot_confusion(rf, 3, X_train_scaled, X_val_scaled, X_test_scaled)"
   ]
  },
  {
   "cell_type": "markdown",
   "metadata": {},
   "source": [
    "##### We will be going with random forest as it outperformed SVM in both the validation and test sets. By examining its predictions, we may be able to see differences in demographics and behavior. This is actually a similar approach to segmentation, but we won't be segmenting customers. Instead, we are segmenting the unique offers that went out to customers."
   ]
  },
  {
   "cell_type": "code",
   "execution_count": 37,
   "metadata": {},
   "outputs": [
    {
     "name": "stdout",
     "output_type": "stream",
     "text": [
      "(55684, 15)\n"
     ]
    },
    {
     "data": {
      "text/html": [
       "<div>\n",
       "<style scoped>\n",
       "    .dataframe tbody tr th:only-of-type {\n",
       "        vertical-align: middle;\n",
       "    }\n",
       "\n",
       "    .dataframe tbody tr th {\n",
       "        vertical-align: top;\n",
       "    }\n",
       "\n",
       "    .dataframe thead th {\n",
       "        text-align: right;\n",
       "    }\n",
       "</style>\n",
       "<table border=\"1\" class=\"dataframe\">\n",
       "  <thead>\n",
       "    <tr style=\"text-align: right;\">\n",
       "      <th></th>\n",
       "      <th>reward</th>\n",
       "      <th>difficulty</th>\n",
       "      <th>duration</th>\n",
       "      <th>mobile</th>\n",
       "      <th>social</th>\n",
       "      <th>web</th>\n",
       "      <th>age</th>\n",
       "      <th>income</th>\n",
       "      <th>frequency</th>\n",
       "      <th>monetary</th>\n",
       "      <th>tenure</th>\n",
       "      <th>info_offer</th>\n",
       "      <th>disc_offer</th>\n",
       "      <th>bogo_offer</th>\n",
       "      <th>male</th>\n",
       "    </tr>\n",
       "  </thead>\n",
       "  <tbody>\n",
       "    <tr>\n",
       "      <th>0</th>\n",
       "      <td>0.243966</td>\n",
       "      <td>-0.485470</td>\n",
       "      <td>0.22361</td>\n",
       "      <td>0.321859</td>\n",
       "      <td>-1.263613</td>\n",
       "      <td>0.50009</td>\n",
       "      <td>1.182039</td>\n",
       "      <td>1.591093</td>\n",
       "      <td>-0.253960</td>\n",
       "      <td>0.247765</td>\n",
       "      <td>-0.234072</td>\n",
       "      <td>-0.497788</td>\n",
       "      <td>-0.824874</td>\n",
       "      <td>1.233708</td>\n",
       "      <td>-1.139486</td>\n",
       "    </tr>\n",
       "    <tr>\n",
       "      <th>1</th>\n",
       "      <td>-0.640571</td>\n",
       "      <td>0.433579</td>\n",
       "      <td>0.22361</td>\n",
       "      <td>0.321859</td>\n",
       "      <td>-1.263613</td>\n",
       "      <td>0.50009</td>\n",
       "      <td>0.778388</td>\n",
       "      <td>0.198961</td>\n",
       "      <td>-1.066293</td>\n",
       "      <td>-0.507030</td>\n",
       "      <td>-1.024845</td>\n",
       "      <td>-0.497788</td>\n",
       "      <td>1.212306</td>\n",
       "      <td>-0.810565</td>\n",
       "      <td>0.877589</td>\n",
       "    </tr>\n",
       "  </tbody>\n",
       "</table>\n",
       "</div>"
      ],
      "text/plain": [
       "     reward  difficulty  duration    mobile    social      web       age  \\\n",
       "0  0.243966   -0.485470   0.22361  0.321859 -1.263613  0.50009  1.182039   \n",
       "1 -0.640571    0.433579   0.22361  0.321859 -1.263613  0.50009  0.778388   \n",
       "\n",
       "     income  frequency  monetary    tenure  info_offer  disc_offer  \\\n",
       "0  1.591093  -0.253960  0.247765 -0.234072   -0.497788   -0.824874   \n",
       "1  0.198961  -1.066293 -0.507030 -1.024845   -0.497788    1.212306   \n",
       "\n",
       "   bogo_offer      male  \n",
       "0    1.233708 -1.139486  \n",
       "1   -0.810565  0.877589  "
      ]
     },
     "execution_count": 37,
     "metadata": {},
     "output_type": "execute_result"
    }
   ],
   "source": [
    "# Normalize the entire dataset\n",
    "X_scaled = scaler.fit_transform(X)\n",
    "X_scaled = pd.DataFrame(X_scaled, columns=X.columns)\n",
    "print(X_scaled.shape)\n",
    "X_scaled.head(2)"
   ]
  },
  {
   "cell_type": "code",
   "execution_count": 38,
   "metadata": {},
   "outputs": [
    {
     "name": "stdout",
     "output_type": "stream",
     "text": [
      "              precision    recall  f1-score   support\n",
      "\n",
      "           0       0.78      0.72      0.75     27842\n",
      "           1       0.74      0.80      0.77     27842\n",
      "\n",
      "    accuracy                           0.76     55684\n",
      "   macro avg       0.76      0.76      0.76     55684\n",
      "weighted avg       0.76      0.76      0.76     55684\n",
      "\n"
     ]
    },
    {
     "data": {
      "image/png": "[encoded data removed]",
      "text/plain": [
       "<Figure size 432x288 with 2 Axes>"
      ]
     },
     "metadata": {},
     "output_type": "display_data"
    }
   ],
   "source": [
    "# Make predictions on the entire dataset\n",
    "rf_pred = rf.predict(X_scaled)\n",
    "\n",
    "# Evaluate predictions\n",
    "print(report(y, rf_pred))\n",
    "plot_confusion_matrix(rf, X_scaled, y, cmap='Blues')\n",
    "plt.title('Confusion Matrix')\n",
    "plt.grid(False);"
   ]
  },
  {
   "cell_type": "code",
   "execution_count": 39,
   "metadata": {},
   "outputs": [
    {
     "data": {
      "text/html": [
       "<div>\n",
       "<style scoped>\n",
       "    .dataframe tbody tr th:only-of-type {\n",
       "        vertical-align: middle;\n",
       "    }\n",
       "\n",
       "    .dataframe tbody tr th {\n",
       "        vertical-align: top;\n",
       "    }\n",
       "\n",
       "    .dataframe thead th {\n",
       "        text-align: right;\n",
       "    }\n",
       "</style>\n",
       "<table border=\"1\" class=\"dataframe\">\n",
       "  <thead>\n",
       "    <tr style=\"text-align: right;\">\n",
       "      <th></th>\n",
       "      <th>reward</th>\n",
       "      <th>difficulty</th>\n",
       "      <th>duration</th>\n",
       "      <th>mobile</th>\n",
       "      <th>social</th>\n",
       "      <th>web</th>\n",
       "      <th>age</th>\n",
       "      <th>income</th>\n",
       "      <th>frequency</th>\n",
       "      <th>monetary</th>\n",
       "      <th>tenure</th>\n",
       "      <th>info_offer</th>\n",
       "      <th>disc_offer</th>\n",
       "      <th>bogo_offer</th>\n",
       "      <th>male</th>\n",
       "    </tr>\n",
       "  </thead>\n",
       "  <tbody>\n",
       "    <tr>\n",
       "      <th>0</th>\n",
       "      <td>4.278129</td>\n",
       "      <td>8.531595</td>\n",
       "      <td>6.659781</td>\n",
       "      <td>0.827750</td>\n",
       "      <td>0.427797</td>\n",
       "      <td>0.821584</td>\n",
       "      <td>52.855280</td>\n",
       "      <td>62244.590190</td>\n",
       "      <td>5.926560</td>\n",
       "      <td>61.152560</td>\n",
       "      <td>14.448533</td>\n",
       "      <td>0.199702</td>\n",
       "      <td>0.406001</td>\n",
       "      <td>0.394298</td>\n",
       "      <td>0.633547</td>\n",
       "    </tr>\n",
       "    <tr>\n",
       "      <th>1</th>\n",
       "      <td>4.083617</td>\n",
       "      <td>6.890904</td>\n",
       "      <td>6.378214</td>\n",
       "      <td>0.972172</td>\n",
       "      <td>0.772542</td>\n",
       "      <td>0.781708</td>\n",
       "      <td>55.888356</td>\n",
       "      <td>68634.327124</td>\n",
       "      <td>10.208597</td>\n",
       "      <td>180.525529</td>\n",
       "      <td>21.464114</td>\n",
       "      <td>0.197644</td>\n",
       "      <td>0.403991</td>\n",
       "      <td>0.398365</td>\n",
       "      <td>0.507098</td>\n",
       "    </tr>\n",
       "    <tr>\n",
       "      <th>2</th>\n",
       "      <td>4.172563</td>\n",
       "      <td>7.641154</td>\n",
       "      <td>6.506968</td>\n",
       "      <td>0.906131</td>\n",
       "      <td>0.614898</td>\n",
       "      <td>0.799943</td>\n",
       "      <td>54.501401</td>\n",
       "      <td>65712.448818</td>\n",
       "      <td>8.250521</td>\n",
       "      <td>125.939043</td>\n",
       "      <td>18.256052</td>\n",
       "      <td>0.198585</td>\n",
       "      <td>0.404910</td>\n",
       "      <td>0.396505</td>\n",
       "      <td>0.564920</td>\n",
       "    </tr>\n",
       "  </tbody>\n",
       "</table>\n",
       "</div>"
      ],
      "text/plain": [
       "     reward  difficulty  duration    mobile    social       web        age  \\\n",
       "0  4.278129    8.531595  6.659781  0.827750  0.427797  0.821584  52.855280   \n",
       "1  4.083617    6.890904  6.378214  0.972172  0.772542  0.781708  55.888356   \n",
       "2  4.172563    7.641154  6.506968  0.906131  0.614898  0.799943  54.501401   \n",
       "\n",
       "         income  frequency    monetary     tenure  info_offer  disc_offer  \\\n",
       "0  62244.590190   5.926560   61.152560  14.448533    0.199702    0.406001   \n",
       "1  68634.327124  10.208597  180.525529  21.464114    0.197644    0.403991   \n",
       "2  65712.448818   8.250521  125.939043  18.256052    0.198585    0.404910   \n",
       "\n",
       "   bogo_offer      male  \n",
       "0    0.394298  0.633547  \n",
       "1    0.398365  0.507098  \n",
       "2    0.396505  0.564920  "
      ]
     },
     "execution_count": 39,
     "metadata": {},
     "output_type": "execute_result"
    }
   ],
   "source": [
    "# Inspect average values for each predicted class\n",
    "X['prediction'] = rf_pred\n",
    "label_means = X.groupby('prediction').mean()\n",
    "label_means = label_means.append(X.mean()[:-1], ignore_index=True)\n",
    "label_means"
   ]
  },
  {
   "cell_type": "code",
   "execution_count": 40,
   "metadata": {},
   "outputs": [
    {
     "name": "stderr",
     "output_type": "stream",
     "text": [
      "/home/tri/miniconda3/envs/minds/lib/python3.8/site-packages/pandas/plotting/_matplotlib/core.py:1235: UserWarning: FixedFormatter should only be used together with FixedLocator\n",
      "  ax.set_xticklabels(xticklabels)\n"
     ]
    },
    {
     "data": {
      "image/png": "[encoded data removed]",
      "text/plain": [
       "<Figure size 1152x288 with 1 Axes>"
      ]
     },
     "metadata": {},
     "output_type": "display_data"
    }
   ],
   "source": [
    "# Snake plot\n",
    "pd.DataFrame(StandardScaler().fit_transform(label_means), index=[0, 1, 'Overall'], columns=label_means.columns).T.plot(figsize=(16, 4))\n",
    "plt.xticks(range(15), label_means.columns);"
   ]
  },
  {
   "cell_type": "code",
   "execution_count": 41,
   "metadata": {},
   "outputs": [
    {
     "data": {
      "image/png": "[encoded data removed]",
      "text/plain": [
       "<Figure size 720x1080 with 12 Axes>"
      ]
     },
     "metadata": {},
     "output_type": "display_data"
    }
   ],
   "source": [
    "# Plot distribution for each feature by their predicted label\n",
    "label0 = X.query('prediction == 0')\n",
    "label1 = X.query('prediction == 1')\n",
    "feats = ['male', 'age', 'income', 'frequency', 'monetary', 'tenure']\n",
    "\n",
    "fig, ax = plt.subplots(6, 2, figsize=(10, 15))\n",
    "ax[0, 0].set_title('Label 0', fontsize='x-large')\n",
    "ax[0, 1].set_title('Label 1', fontsize='x-large')\n",
    "for i in range(6):\n",
    "    sns.histplot(x=label0[feats[i]], bins=20, color=sns.color_palette()[3], ax=ax[i, 0])\n",
    "    sns.histplot(x=label1[feats[i]], bins=20, color=sns.color_palette()[2], ax=ax[i, 1])\n",
    "plt.tight_layout()"
   ]
  },
  {
   "cell_type": "code",
   "execution_count": 42,
   "metadata": {},
   "outputs": [
    {
     "data": {
      "text/plain": [
       "45671"
      ]
     },
     "execution_count": 42,
     "metadata": {},
     "output_type": "execute_result"
    }
   ],
   "source": [
    "del target_corr, label_means, label0, label1, feats, fig, ax, i\n",
    "gc.collect()"
   ]
  },
  {
   "cell_type": "markdown",
   "metadata": {},
   "source": [
    "##### We can see that the classifier is capturing a lot of the same patterns seen in earlier analyses.\n",
    "- Female customers are more likely to complete offers\n",
    "- Customers under the `age` of 40 are more likely to NOT complete offers\n",
    "- As `income` and spending habits increase, the customer is more likely to complete offers\n",
    "- Users who have been using the app for more than a year are more likely to complete offers"
   ]
  },
  {
   "cell_type": "markdown",
   "metadata": {},
   "source": [
    "## <a id=\"conc\">Section IV: Conclusion</a>"
   ]
  },
  {
   "cell_type": "markdown",
   "metadata": {},
   "source": [
    "In this notebook, I built a classifier that predicts whether a user will complete an offer. The process began with some data preprocessing, which included extracting the received offers (the data of interest), encoding the categorical variables into numerical data, creating the target label (defined as 1 if the user viewed and then completed the offer or 0 otherwise), and balancing the label classes.\n",
    "\n",
    "I also inspected feature correlation in order to create a separate feature set for logistic regression, which has an assumption of non-multicollinearity. The last step was to split the data into 3 sets and normalize the features in all 3 sets:\n",
    "- Training set (60%) - used to fit the machine learning models\n",
    "- Validation set (20%) - used to validate model building and parameter tuning\n",
    "- Test set (20%) - holdout set for the final test\n",
    "\n",
    "Then it was on to building models. Out of the 6 models tried - [logistic regression](#clfr3), [k-nearest neighbors](#clfr4), [support vector machines](#clfr5), [decision tree](#clfr6), [random forest](#clfr7), and [light gradient boosting machines](#clfr8) - the random forest classifier had the best prediction performance with an F1 score of 0.74 on the validation set and 0.75 on the test set.\n",
    "\n",
    "Upon inspecting the final classifier's predictions, we also saw that it captured a lot of the patterns seen in the analyses of previous notebooks."
   ]
  },
  {
   "cell_type": "markdown",
   "metadata": {},
   "source": [
    "### Save data"
   ]
  },
  {
   "cell_type": "code",
   "execution_count": 43,
   "metadata": {},
   "outputs": [
    {
     "data": {
      "text/plain": [
       "(55684, 16)"
      ]
     },
     "execution_count": 43,
     "metadata": {},
     "output_type": "execute_result"
    }
   ],
   "source": [
    "df.to_pickle('../data/out3/train.pkl')\n",
    "joblib.dump(scaler, '../data/out3/scaler.pkl')\n",
    "joblib.dump(rf, '../data/out3/rfc.pkl')\n",
    "df.shape"
   ]
  },
  {
   "cell_type": "code",
   "execution_count": null,
   "metadata": {},
   "outputs": [],
   "source": []
  }
 ],
 "metadata": {
  "kernelspec": {
   "display_name": "Python 3",
   "language": "python",
   "name": "python3"
  },
  "language_info": {
   "codemirror_mode": {
    "name": "ipython",
    "version": 3
   },
   "file_extension": ".py",
   "mimetype": "text/x-python",
   "name": "python",
   "nbconvert_exporter": "python",
   "pygments_lexer": "ipython3",
   "version": "3.8.5"
  }
 },
 "nbformat": 4,
 "nbformat_minor": 4
}
